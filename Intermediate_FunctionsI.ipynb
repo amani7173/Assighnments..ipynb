{
 "cells": [
  {
   "cell_type": "markdown",
   "id": "4e13d8be-9eee-450a-a270-da6708a5f127",
   "metadata": {},
   "source": [
    "#### Group2 Members :\n",
    "Amani Almarzoog\n",
    "\n",
    "Ruba Alkhattabi\n",
    "\n",
    "Abdullah Alothman\n",
    "\n",
    "Razan Alsallumi\n",
    "\n"
   ]
  },
  {
   "cell_type": "markdown",
   "id": "48836eb6-65cc-472d-bcbd-0574bc7d2941",
   "metadata": {},
   "source": [
    "### Assignment: Intermediate Functions I"
   ]
  },
  {
   "cell_type": "code",
   "execution_count": 1,
   "id": "a4514a70-a82b-47db-9a4a-8711d97a780a",
   "metadata": {},
   "outputs": [],
   "source": [
    "import random"
   ]
  },
  {
   "cell_type": "code",
   "execution_count": 24,
   "id": "eefce833-8a4e-4f76-b6ad-a45210d4da08",
   "metadata": {},
   "outputs": [],
   "source": [
    "def randInt(min=0,max=100):\n",
    "    rand = int(random.random()*max)\n",
    "    return rand"
   ]
  },
  {
   "cell_type": "code",
   "execution_count": 25,
   "id": "47d19ad5-9345-41f5-a3ab-381c74eff3ca",
   "metadata": {},
   "outputs": [
    {
     "data": {
      "text/plain": [
       "52"
      ]
     },
     "execution_count": 25,
     "metadata": {},
     "output_type": "execute_result"
    }
   ],
   "source": [
    "randInt()"
   ]
  },
  {
   "cell_type": "code",
   "execution_count": 26,
   "id": "e31051b7-f625-46fd-a144-b5998584686f",
   "metadata": {},
   "outputs": [
    {
     "data": {
      "text/plain": [
       "16"
      ]
     },
     "execution_count": 26,
     "metadata": {},
     "output_type": "execute_result"
    }
   ],
   "source": [
    "randInt(max=30)"
   ]
  },
  {
   "cell_type": "code",
   "execution_count": 27,
   "id": "184c7b5a-ecb0-4400-9d5a-9f7ddff10694",
   "metadata": {},
   "outputs": [
    {
     "data": {
      "text/plain": [
       "14"
      ]
     },
     "execution_count": 27,
     "metadata": {},
     "output_type": "execute_result"
    }
   ],
   "source": [
    "randInt(min=10)"
   ]
  },
  {
   "cell_type": "code",
   "execution_count": 28,
   "id": "e0065402-9c56-4f93-831c-b1c8a76c31a1",
   "metadata": {},
   "outputs": [
    {
     "data": {
      "text/plain": [
       "24"
      ]
     },
     "execution_count": 28,
     "metadata": {},
     "output_type": "execute_result"
    }
   ],
   "source": [
    "randInt(min=40,max=50)"
   ]
  },
  {
   "cell_type": "code",
   "execution_count": 2,
   "id": "ea2ac758-4c64-4f64-a258-2e1d431fbf16",
   "metadata": {},
   "outputs": [],
   "source": [
    "# Optional: account for any edge cases (e.g. min is greater than max, max is less than 0).\n",
    "\n",
    "def randInt(min=0,max=100):\n",
    "    if min<max & max>0:\n",
    "        rand = int(random.random()*max)\n",
    "    else:\n",
    "        print('Sorry, min must be greater than max and max greater than 0.')\n",
    "    return rand"
   ]
  },
  {
   "cell_type": "code",
   "execution_count": null,
   "id": "c9a3d628-6909-439e-aa79-b66394de4939",
   "metadata": {},
   "outputs": [],
   "source": []
  }
 ],
 "metadata": {
  "kernelspec": {
   "display_name": "Python 3",
   "language": "python",
   "name": "python3"
  },
  "language_info": {
   "codemirror_mode": {
    "name": "ipython",
    "version": 3
   },
   "file_extension": ".py",
   "mimetype": "text/x-python",
   "name": "python",
   "nbconvert_exporter": "python",
   "pygments_lexer": "ipython3",
   "version": "3.8.8"
  }
 },
 "nbformat": 4,
 "nbformat_minor": 5
}
