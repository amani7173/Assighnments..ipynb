{
  "nbformat": 4,
  "nbformat_minor": 0,
  "metadata": {
    "colab": {
      "name": "Dash.ipynb",
      "provenance": [],
      "toc_visible": true,
      "authorship_tag": "ABX9TyPSTeRQHBOTf2aHp4eGDzXD",
      "include_colab_link": true
    },
    "kernelspec": {
      "name": "python3",
      "display_name": "Python 3"
    },
    "language_info": {
      "name": "python"
    }
  },
  "cells": [
    {
      "cell_type": "markdown",
      "metadata": {
        "id": "view-in-github",
        "colab_type": "text"
      },
      "source": [
        "<a href=\"https://colab.research.google.com/github/amani7173/Assighnments..ipynb/blob/master/Dash.ipynb\" target=\"_parent\"><img src=\"https://colab.research.google.com/assets/colab-badge.svg\" alt=\"Open In Colab\"/></a>"
      ]
    },
    {
      "cell_type": "markdown",
      "metadata": {
        "id": "CtmXD0ddKMw8"
      },
      "source": [
        "## **Group Name:**\n",
        "\n",
        "*   Marwah Alkhalaf\n",
        "*   Shikhah Alhuzimi\n",
        "*   Fatimah Al-Rashed\n",
        "*   Amani Almarzoog\n",
        "\n",
        "\n",
        "\n"
      ]
    },
    {
      "cell_type": "code",
      "metadata": {
        "colab": {
          "base_uri": "https://localhost:8080/"
        },
        "id": "xL0kkWwLdfr3",
        "outputId": "8f2fbfb3-00eb-4b64-edf4-3c60f4f4b474"
      },
      "source": [
        "%%capture\n",
        "!pip install jupyter-dash\n",
        "!pip install -q jupyter-dash==0.3.0rc1 dash-bootstrap-components transformers\n"
      ],
      "execution_count": null,
      "outputs": [
        {
          "output_type": "stream",
          "text": [
            "\u001b[K     |████████████████████████████████| 51kB 2.0MB/s \n",
            "\u001b[K     |████████████████████████████████| 194kB 4.9MB/s \n",
            "\u001b[K     |████████████████████████████████| 2.3MB 46.9MB/s \n",
            "\u001b[K     |████████████████████████████████| 3.3MB 47.6MB/s \n",
            "\u001b[K     |████████████████████████████████| 901kB 38.1MB/s \n",
            "\u001b[?25h"
          ],
          "name": "stdout"
        }
      ]
    },
    {
      "cell_type": "code",
      "metadata": {
        "id": "umwjT4TsZwAa"
      },
      "source": [
        "import pandas as pd\n",
        "import matplotlib.pyplot as plt\n",
        "import numpy as np\n",
        "import seaborn as sns \n",
        "\n",
        "import plotly.express as px\n",
        "from jupyter_dash import JupyterDash\n",
        "import dash_core_components as dcc\n",
        "import dash_html_components as html\n",
        "from dash.dependencies import Input, Output"
      ],
      "execution_count": null,
      "outputs": []
    },
    {
      "cell_type": "code",
      "metadata": {
        "colab": {
          "base_uri": "https://localhost:8080/",
          "height": 97
        },
        "id": "u03xEXEqZ1Bl",
        "outputId": "27e1c7d1-dabe-4fad-908f-6d303f7d7577"
      },
      "source": [
        "PATH = \"xAPI-Edu-Data.csv\"\n",
        "\n",
        "df = pd.read_csv(PATH) \n",
        "df.sample()"
      ],
      "execution_count": null,
      "outputs": [
        {
          "output_type": "execute_result",
          "data": {
            "text/html": [
              "<div>\n",
              "<style scoped>\n",
              "    .dataframe tbody tr th:only-of-type {\n",
              "        vertical-align: middle;\n",
              "    }\n",
              "\n",
              "    .dataframe tbody tr th {\n",
              "        vertical-align: top;\n",
              "    }\n",
              "\n",
              "    .dataframe thead th {\n",
              "        text-align: right;\n",
              "    }\n",
              "</style>\n",
              "<table border=\"1\" class=\"dataframe\">\n",
              "  <thead>\n",
              "    <tr style=\"text-align: right;\">\n",
              "      <th></th>\n",
              "      <th>gender</th>\n",
              "      <th>NationalITy</th>\n",
              "      <th>PlaceofBirth</th>\n",
              "      <th>StageID</th>\n",
              "      <th>GradeID</th>\n",
              "      <th>SectionID</th>\n",
              "      <th>Topic</th>\n",
              "      <th>Semester</th>\n",
              "      <th>Relation</th>\n",
              "      <th>raisedhands</th>\n",
              "      <th>VisITedResources</th>\n",
              "      <th>AnnouncementsView</th>\n",
              "      <th>Discussion</th>\n",
              "      <th>ParentAnsweringSurvey</th>\n",
              "      <th>ParentschoolSatisfaction</th>\n",
              "      <th>StudentAbsenceDays</th>\n",
              "      <th>Class</th>\n",
              "    </tr>\n",
              "  </thead>\n",
              "  <tbody>\n",
              "    <tr>\n",
              "      <th>310</th>\n",
              "      <td>M</td>\n",
              "      <td>Jordan</td>\n",
              "      <td>Jordan</td>\n",
              "      <td>lowerlevel</td>\n",
              "      <td>G-04</td>\n",
              "      <td>B</td>\n",
              "      <td>Science</td>\n",
              "      <td>F</td>\n",
              "      <td>Father</td>\n",
              "      <td>25</td>\n",
              "      <td>29</td>\n",
              "      <td>34</td>\n",
              "      <td>33</td>\n",
              "      <td>No</td>\n",
              "      <td>Good</td>\n",
              "      <td>Above-7</td>\n",
              "      <td>M</td>\n",
              "    </tr>\n",
              "  </tbody>\n",
              "</table>\n",
              "</div>"
            ],
            "text/plain": [
              "    gender NationalITy  ... StudentAbsenceDays Class\n",
              "310      M      Jordan  ...            Above-7     M\n",
              "\n",
              "[1 rows x 17 columns]"
            ]
          },
          "metadata": {
            "tags": []
          },
          "execution_count": 9
        }
      ]
    },
    {
      "cell_type": "code",
      "metadata": {
        "colab": {
          "base_uri": "https://localhost:8080/",
          "height": 542
        },
        "id": "NVa1gINCdYd3",
        "outputId": "b6d6d35f-0669-44ed-d866-cd221cd24e06"
      },
      "source": [
        "px.scatter(\n",
        "    data_frame = df,\n",
        "    x = \"Topic\",\n",
        "    y = \"Discussion\",\n",
        "    color=\"gender\",\n",
        "    title = \"The Discussion for each Topic by gender\",\n",
        "     facet_col=\"StageID\"\n",
        ")"
      ],
      "execution_count": null,
      "outputs": [
        {
          "output_type": "display_data",
          "data": {
            "text/html": [
              "<html>\n",
              "<head><meta charset=\"utf-8\" /></head>\n",
              "<body>\n",
              "    <div>\n",
              "            <script src=\"https://cdnjs.cloudflare.com/ajax/libs/mathjax/2.7.5/MathJax.js?config=TeX-AMS-MML_SVG\"></script><script type=\"text/javascript\">if (window.MathJax) {MathJax.Hub.Config({SVG: {font: \"STIX-Web\"}});}</script>\n",
              "                <script type=\"text/javascript\">window.PlotlyConfig = {MathJaxConfig: 'local'};</script>\n",
              "        <script src=\"https://cdn.plot.ly/plotly-latest.min.js\"></script>    \n",
              "            <div id=\"ee2c2550-d2d0-4a9b-956c-2b04dc5c1739\" class=\"plotly-graph-div\" style=\"height:525px; width:100%;\"></div>\n",
              "            <script type=\"text/javascript\">\n",
              "                \n",
              "                    window.PLOTLYENV=window.PLOTLYENV || {};\n",
              "                    \n",
              "                if (document.getElementById(\"ee2c2550-d2d0-4a9b-956c-2b04dc5c1739\")) {\n",
              "                    Plotly.newPlot(\n",
              "                        'ee2c2550-d2d0-4a9b-956c-2b04dc5c1739',\n",
              "                        [{\"hoverlabel\": {\"namelength\": 0}, \"hovertemplate\": \"gender=M<br>StageID=lowerlevel<br>Topic=%{x}<br>Discussion=%{y}\", \"legendgroup\": \"gender=M\", \"marker\": {\"color\": \"#636efa\", \"symbol\": \"circle\"}, \"mode\": \"markers\", \"name\": \"gender=M\", \"showlegend\": true, \"type\": \"scatter\", \"x\": [\"IT\", \"IT\", \"IT\", \"IT\", \"IT\", \"IT\", \"English\", \"English\", \"IT\", \"IT\", \"IT\", \"IT\", \"IT\", \"IT\", \"IT\", \"IT\", \"IT\", \"IT\", \"IT\", \"IT\", \"IT\", \"IT\", \"IT\", \"IT\", \"IT\", \"IT\", \"IT\", \"IT\", \"IT\", \"IT\", \"IT\", \"IT\", \"IT\", \"IT\", \"IT\", \"IT\", \"IT\", \"IT\", \"IT\", \"IT\", \"IT\", \"IT\", \"French\", \"French\", \"French\", \"French\", \"French\", \"French\", \"French\", \"French\", \"French\", \"French\", \"French\", \"French\", \"French\", \"IT\", \"Math\", \"English\", \"Arabic\", \"English\", \"History\", \"English\", \"History\", \"History\", \"Math\", \"Science\", \"Science\", \"Science\", \"Science\", \"Science\", \"Science\", \"Science\", \"Science\", \"Science\", \"Science\", \"Science\", \"Science\", \"French\", \"French\", \"French\", \"French\", \"French\", \"French\", \"French\", \"French\", \"French\", \"French\", \"French\", \"French\", \"French\", \"French\", \"French\", \"French\", \"French\", \"French\", \"French\", \"French\", \"French\", \"French\", \"Arabic\", \"Arabic\", \"Arabic\", \"Arabic\", \"Arabic\", \"Arabic\", \"Arabic\", \"Arabic\", \"Arabic\", \"Arabic\", \"Arabic\", \"Arabic\", \"Arabic\", \"Arabic\", \"Arabic\", \"Arabic\", \"Arabic\", \"Arabic\", \"Arabic\", \"Arabic\", \"Arabic\", \"Arabic\"], \"xaxis\": \"x\", \"y\": [20, 25, 30, 35, 50, 11, 40, 30, 70, 80, 50, 10, 12, 50, 50, 50, 60, 19, 40, 50, 90, 10, 3, 33, 3, 14, 80, 50, 69, 50, 70, 60, 50, 30, 15, 17, 9, 16, 2, 50, 3, 70, 14, 43, 43, 33, 23, 33, 33, 13, 33, 53, 33, 33, 33, 40, 40, 17, 44, 70, 40, 17, 14, 64, 7, 74, 84, 34, 29, 13, 9, 83, 89, 89, 79, 33, 39, 23, 13, 21, 5, 31, 35, 21, 5, 41, 33, 3, 7, 41, 33, 3, 7, 6, 10, 21, 23, 25, 27, 28, 38, 38, 39, 28, 29, 38, 48, 21, 23, 51, 23, 61, 63, 91, 83, 28, 33, 97, 88, 7, 8], \"yaxis\": \"y\"}, {\"hoverlabel\": {\"namelength\": 0}, \"hovertemplate\": \"gender=M<br>StageID=MiddleSchool<br>Topic=%{x}<br>Discussion=%{y}\", \"legendgroup\": \"gender=M\", \"marker\": {\"color\": \"#636efa\", \"symbol\": \"circle\"}, \"mode\": \"markers\", \"name\": \"gender=M\", \"showlegend\": false, \"type\": \"scatter\", \"x\": [\"Math\", \"Math\", \"Math\", \"Math\", \"Math\", \"IT\", \"Math\", \"IT\", \"IT\", \"IT\", \"IT\", \"IT\", \"IT\", \"Arabic\", \"Science\", \"IT\", \"Science\", \"English\", \"Science\", \"IT\", \"IT\", \"Quran\", \"Math\", \"Math\", \"Math\", \"Math\", \"IT\", \"IT\", \"IT\", \"Math\", \"IT\", \"Quran\", \"Math\", \"Quran\", \"Quran\", \"Quran\", \"Quran\", \"Quran\", \"Quran\", \"Quran\", \"Quran\", \"Science\", \"Science\", \"Arabic\", \"Arabic\", \"Arabic\", \"Arabic\", \"Arabic\", \"Arabic\", \"Arabic\", \"Arabic\", \"Arabic\", \"Arabic\", \"Arabic\", \"Arabic\", \"Arabic\", \"Arabic\", \"Arabic\", \"Arabic\", \"Arabic\", \"Arabic\", \"Arabic\", \"Spanish\", \"Spanish\", \"Spanish\", \"Spanish\", \"Spanish\", \"Spanish\", \"Spanish\", \"Spanish\", \"Spanish\", \"Spanish\", \"Spanish\", \"Spanish\", \"Spanish\", \"Spanish\", \"Spanish\", \"Spanish\", \"Spanish\", \"Spanish\", \"Spanish\", \"Spanish\", \"Spanish\", \"Spanish\", \"Spanish\", \"Quran\", \"Science\", \"Science\", \"Science\", \"Science\", \"Science\", \"Science\", \"Science\", \"Science\", \"Science\", \"IT\", \"English\", \"English\", \"English\", \"English\", \"English\", \"English\", \"English\", \"English\", \"English\", \"English\", \"English\", \"English\", \"English\", \"English\", \"English\", \"English\", \"Biology\", \"Biology\", \"Biology\", \"Biology\", \"Biology\", \"Biology\", \"Biology\", \"Biology\", \"Biology\", \"Biology\", \"Biology\", \"Biology\", \"Biology\", \"Biology\", \"Biology\", \"Biology\", \"Biology\", \"Biology\", \"Biology\", \"Biology\", \"Chemistry\", \"Chemistry\", \"Chemistry\", \"Chemistry\", \"Geology\", \"Geology\", \"Geology\", \"Geology\", \"Chemistry\", \"Chemistry\", \"Geology\", \"Geology\", \"Chemistry\", \"Chemistry\", \"Geology\", \"Geology\", \"History\", \"History\", \"Chemistry\", \"Chemistry\", \"Geology\", \"Geology\", \"History\", \"History\", \"Chemistry\", \"Chemistry\", \"Geology\", \"Geology\", \"History\", \"History\", \"History\", \"History\", \"Geology\", \"Geology\"], \"xaxis\": \"x2\", \"y\": [17, 22, 80, 12, 19, 80, 90, 99, 90, 50, 70, 40, 40, 33, 43, 16, 40, 30, 22, 4, 50, 70, 20, 1, 5, 50, 33, 12, 20, 8, 13, 60, 40, 70, 70, 20, 10, 11, 19, 19, 11, 10, 66, 53, 13, 33, 53, 53, 53, 13, 53, 53, 23, 33, 53, 53, 53, 13, 83, 33, 24, 14, 14, 14, 84, 14, 14, 19, 14, 4, 14, 61, 94, 34, 13, 24, 40, 90, 70, 30, 30, 10, 10, 29, 20, 50, 66, 26, 6, 66, 76, 96, 86, 6, 46, 85, 17, 29, 10, 20, 16, 26, 26, 27, 25, 27, 37, 37, 36, 39, 69, 80, 40, 72, 61, 63, 81, 83, 26, 22, 86, 82, 1, 3, 31, 33, 51, 83, 71, 83, 81, 84, 11, 13, 41, 49, 61, 68, 81, 98, 10, 20, 30, 23, 19, 29, 15, 10, 75, 70, 39, 40, 79, 80, 89, 85, 81, 83, 71, 72, 89, 92, 41, 53, 68, 70], \"yaxis\": \"y2\"}, {\"hoverlabel\": {\"namelength\": 0}, \"hovertemplate\": \"gender=M<br>StageID=HighSchool<br>Topic=%{x}<br>Discussion=%{y}\", \"legendgroup\": \"gender=M\", \"marker\": {\"color\": \"#636efa\", \"symbol\": \"circle\"}, \"mode\": \"markers\", \"name\": \"gender=M\", \"showlegend\": false, \"type\": \"scatter\", \"x\": [\"IT\", \"English\", \"English\", \"IT\", \"IT\", \"IT\", \"IT\", \"English\", \"IT\", \"IT\", \"Quran\", \"Quran\", \"Science\", \"Spanish\", \"English\", \"Math\", \"Science\", \"Math\"], \"xaxis\": \"x3\", \"y\": [33, 50, 30, 40, 80, 12, 2, 19, 44, 33, 9, 59, 89, 40, 41, 91, 40, 81], \"yaxis\": \"y3\"}, {\"hoverlabel\": {\"namelength\": 0}, \"hovertemplate\": \"gender=F<br>StageID=lowerlevel<br>Topic=%{x}<br>Discussion=%{y}\", \"legendgroup\": \"gender=F\", \"marker\": {\"color\": \"#EF553B\", \"symbol\": \"circle\"}, \"mode\": \"markers\", \"name\": \"gender=F\", \"showlegend\": true, \"type\": \"scatter\", \"x\": [\"IT\", \"IT\", \"English\", \"IT\", \"IT\", \"IT\", \"IT\", \"IT\", \"IT\", \"IT\", \"IT\", \"IT\", \"IT\", \"IT\", \"IT\", \"IT\", \"IT\", \"IT\", \"IT\", \"IT\", \"IT\", \"IT\", \"French\", \"French\", \"French\", \"French\", \"French\", \"French\", \"French\", \"Science\", \"History\", \"History\", \"History\", \"History\", \"Science\", \"Science\", \"Science\", \"Science\", \"Science\", \"Science\", \"Science\", \"Science\", \"Science\", \"Science\", \"Science\", \"Science\", \"Science\", \"Science\", \"French\", \"French\", \"French\", \"French\", \"French\", \"French\", \"French\", \"French\", \"French\", \"French\", \"French\", \"French\", \"French\", \"French\", \"French\", \"French\", \"French\", \"French\", \"French\", \"French\", \"French\", \"French\", \"Arabic\", \"Arabic\", \"Arabic\", \"Arabic\", \"Arabic\", \"Arabic\", \"Arabic\", \"Arabic\"], \"xaxis\": \"x\", \"y\": [70, 50, 20, 33, 15, 10, 70, 75, 12, 30, 7, 8, 80, 40, 40, 19, 17, 22, 12, 5, 55, 30, 73, 43, 66, 43, 11, 13, 93, 94, 60, 65, 95, 34, 44, 24, 74, 84, 84, 89, 23, 39, 43, 89, 43, 49, 83, 89, 3, 10, 11, 15, 83, 80, 21, 23, 21, 20, 11, 14, 11, 10, 14, 30, 14, 30, 11, 13, 15, 17, 31, 34, 97, 98, 98, 93, 28, 23], \"yaxis\": \"y\"}, {\"hoverlabel\": {\"namelength\": 0}, \"hovertemplate\": \"gender=F<br>StageID=MiddleSchool<br>Topic=%{x}<br>Discussion=%{y}\", \"legendgroup\": \"gender=F\", \"marker\": {\"color\": \"#EF553B\", \"symbol\": \"circle\"}, \"mode\": \"markers\", \"name\": \"gender=F\", \"showlegend\": false, \"type\": \"scatter\", \"x\": [\"Math\", \"IT\", \"Math\", \"IT\", \"IT\", \"IT\", \"IT\", \"Arabic\", \"Arabic\", \"IT\", \"Science\", \"IT\", \"Math\", \"English\", \"Math\", \"Quran\", \"Quran\", \"Quran\", \"Quran\", \"Quran\", \"Quran\", \"Science\", \"Science\", \"Arabic\", \"Arabic\", \"Arabic\", \"Arabic\", \"Arabic\", \"Arabic\", \"Spanish\", \"Science\", \"Science\", \"IT\", \"Science\", \"Math\", \"Quran\", \"English\", \"English\", \"English\", \"English\", \"English\", \"English\", \"English\", \"English\", \"English\", \"English\", \"Biology\", \"Biology\", \"Biology\", \"Biology\", \"Biology\", \"Biology\", \"Biology\", \"Biology\", \"Biology\", \"Biology\", \"Chemistry\", \"Chemistry\", \"Geology\", \"Geology\", \"Geology\", \"Geology\", \"Chemistry\", \"Chemistry\", \"Geology\", \"Geology\", \"History\", \"History\", \"Chemistry\", \"Chemistry\", \"Chemistry\", \"Chemistry\", \"Geology\", \"Geology\", \"Chemistry\", \"Chemistry\", \"Chemistry\", \"Chemistry\", \"Geology\", \"Geology\", \"History\", \"History\"], \"xaxis\": \"x2\", \"y\": [50, 70, 60, 66, 96, 90, 80, 35, 70, 90, 70, 70, 40, 19, 55, 70, 90, 70, 30, 40, 70, 80, 50, 53, 51, 23, 43, 40, 24, 10, 46, 66, 66, 77, 96, 16, 32, 37, 30, 36, 70, 60, 80, 86, 89, 85, 10, 12, 20, 22, 70, 72, 21, 43, 1, 3, 31, 43, 45, 43, 79, 68, 10, 2, 20, 12, 80, 72, 30, 22, 90, 92, 58, 60, 80, 85, 8, 8, 28, 29, 57, 62], \"yaxis\": \"y2\"}, {\"hoverlabel\": {\"namelength\": 0}, \"hovertemplate\": \"gender=F<br>StageID=HighSchool<br>Topic=%{x}<br>Discussion=%{y}\", \"legendgroup\": \"gender=F\", \"marker\": {\"color\": \"#EF553B\", \"symbol\": \"circle\"}, \"mode\": \"markers\", \"name\": \"gender=F\", \"showlegend\": false, \"type\": \"scatter\", \"x\": [\"IT\", \"IT\", \"English\", \"English\", \"English\", \"English\", \"English\", \"Science\", \"English\", \"English\", \"IT\", \"Quran\", \"Quran\", \"Science\", \"French\"], \"xaxis\": \"x3\", \"y\": [90, 90, 90, 88, 77, 70, 40, 75, 30, 80, 30, 70, 40, 40, 49], \"yaxis\": \"y3\"}],\n",
              "                        {\"annotations\": [{\"font\": {}, \"showarrow\": false, \"text\": \"StageID=lowerlevel\", \"x\": 0.15999999999999998, \"xanchor\": \"center\", \"xref\": \"paper\", \"y\": 1.0, \"yanchor\": \"bottom\", \"yref\": \"paper\"}, {\"font\": {}, \"showarrow\": false, \"text\": \"StageID=MiddleSchool\", \"x\": 0.49999999999999994, \"xanchor\": \"center\", \"xref\": \"paper\", \"y\": 1.0, \"yanchor\": \"bottom\", \"yref\": \"paper\"}, {\"font\": {}, \"showarrow\": false, \"text\": \"StageID=HighSchool\", \"x\": 0.8399999999999999, \"xanchor\": \"center\", \"xref\": \"paper\", \"y\": 1.0, \"yanchor\": \"bottom\", \"yref\": \"paper\"}], \"legend\": {\"tracegroupgap\": 0}, \"template\": {\"data\": {\"bar\": [{\"error_x\": {\"color\": \"#2a3f5f\"}, \"error_y\": {\"color\": \"#2a3f5f\"}, \"marker\": {\"line\": {\"color\": \"#E5ECF6\", \"width\": 0.5}}, \"type\": \"bar\"}], \"barpolar\": [{\"marker\": {\"line\": {\"color\": \"#E5ECF6\", \"width\": 0.5}}, \"type\": \"barpolar\"}], \"carpet\": [{\"aaxis\": {\"endlinecolor\": \"#2a3f5f\", \"gridcolor\": \"white\", \"linecolor\": \"white\", \"minorgridcolor\": \"white\", \"startlinecolor\": \"#2a3f5f\"}, \"baxis\": {\"endlinecolor\": \"#2a3f5f\", \"gridcolor\": \"white\", \"linecolor\": \"white\", \"minorgridcolor\": \"white\", \"startlinecolor\": \"#2a3f5f\"}, \"type\": \"carpet\"}], \"choropleth\": [{\"colorbar\": {\"outlinewidth\": 0, \"ticks\": \"\"}, \"type\": \"choropleth\"}], \"contour\": [{\"colorbar\": {\"outlinewidth\": 0, \"ticks\": \"\"}, \"colorscale\": [[0.0, \"#0d0887\"], [0.1111111111111111, \"#46039f\"], [0.2222222222222222, \"#7201a8\"], [0.3333333333333333, \"#9c179e\"], [0.4444444444444444, \"#bd3786\"], [0.5555555555555556, \"#d8576b\"], [0.6666666666666666, \"#ed7953\"], [0.7777777777777778, \"#fb9f3a\"], [0.8888888888888888, \"#fdca26\"], [1.0, \"#f0f921\"]], \"type\": \"contour\"}], \"contourcarpet\": [{\"colorbar\": {\"outlinewidth\": 0, \"ticks\": \"\"}, \"type\": \"contourcarpet\"}], \"heatmap\": [{\"colorbar\": {\"outlinewidth\": 0, \"ticks\": \"\"}, \"colorscale\": [[0.0, \"#0d0887\"], [0.1111111111111111, \"#46039f\"], [0.2222222222222222, \"#7201a8\"], [0.3333333333333333, \"#9c179e\"], [0.4444444444444444, \"#bd3786\"], [0.5555555555555556, \"#d8576b\"], [0.6666666666666666, \"#ed7953\"], [0.7777777777777778, \"#fb9f3a\"], [0.8888888888888888, \"#fdca26\"], [1.0, \"#f0f921\"]], \"type\": \"heatmap\"}], \"heatmapgl\": [{\"colorbar\": {\"outlinewidth\": 0, \"ticks\": \"\"}, \"colorscale\": [[0.0, \"#0d0887\"], [0.1111111111111111, \"#46039f\"], [0.2222222222222222, \"#7201a8\"], [0.3333333333333333, \"#9c179e\"], [0.4444444444444444, \"#bd3786\"], [0.5555555555555556, \"#d8576b\"], [0.6666666666666666, \"#ed7953\"], [0.7777777777777778, \"#fb9f3a\"], [0.8888888888888888, \"#fdca26\"], [1.0, \"#f0f921\"]], \"type\": \"heatmapgl\"}], \"histogram\": [{\"marker\": {\"colorbar\": {\"outlinewidth\": 0, \"ticks\": \"\"}}, \"type\": \"histogram\"}], \"histogram2d\": [{\"colorbar\": {\"outlinewidth\": 0, \"ticks\": \"\"}, \"colorscale\": [[0.0, \"#0d0887\"], [0.1111111111111111, \"#46039f\"], [0.2222222222222222, \"#7201a8\"], [0.3333333333333333, \"#9c179e\"], [0.4444444444444444, \"#bd3786\"], [0.5555555555555556, \"#d8576b\"], [0.6666666666666666, \"#ed7953\"], [0.7777777777777778, \"#fb9f3a\"], [0.8888888888888888, \"#fdca26\"], [1.0, \"#f0f921\"]], \"type\": \"histogram2d\"}], \"histogram2dcontour\": [{\"colorbar\": {\"outlinewidth\": 0, \"ticks\": \"\"}, \"colorscale\": [[0.0, \"#0d0887\"], [0.1111111111111111, \"#46039f\"], [0.2222222222222222, \"#7201a8\"], [0.3333333333333333, \"#9c179e\"], [0.4444444444444444, \"#bd3786\"], [0.5555555555555556, \"#d8576b\"], [0.6666666666666666, \"#ed7953\"], [0.7777777777777778, \"#fb9f3a\"], [0.8888888888888888, \"#fdca26\"], [1.0, \"#f0f921\"]], \"type\": \"histogram2dcontour\"}], \"mesh3d\": [{\"colorbar\": {\"outlinewidth\": 0, \"ticks\": \"\"}, \"type\": \"mesh3d\"}], \"parcoords\": [{\"line\": {\"colorbar\": {\"outlinewidth\": 0, \"ticks\": \"\"}}, \"type\": \"parcoords\"}], \"pie\": [{\"automargin\": true, \"type\": \"pie\"}], \"scatter\": [{\"marker\": {\"colorbar\": {\"outlinewidth\": 0, \"ticks\": \"\"}}, \"type\": \"scatter\"}], \"scatter3d\": [{\"line\": {\"colorbar\": {\"outlinewidth\": 0, \"ticks\": \"\"}}, \"marker\": {\"colorbar\": {\"outlinewidth\": 0, \"ticks\": \"\"}}, \"type\": \"scatter3d\"}], \"scattercarpet\": [{\"marker\": {\"colorbar\": {\"outlinewidth\": 0, \"ticks\": \"\"}}, \"type\": \"scattercarpet\"}], \"scattergeo\": [{\"marker\": {\"colorbar\": {\"outlinewidth\": 0, \"ticks\": \"\"}}, \"type\": \"scattergeo\"}], \"scattergl\": [{\"marker\": {\"colorbar\": {\"outlinewidth\": 0, \"ticks\": \"\"}}, \"type\": \"scattergl\"}], \"scattermapbox\": [{\"marker\": {\"colorbar\": {\"outlinewidth\": 0, \"ticks\": \"\"}}, \"type\": \"scattermapbox\"}], \"scatterpolar\": [{\"marker\": {\"colorbar\": {\"outlinewidth\": 0, \"ticks\": \"\"}}, \"type\": \"scatterpolar\"}], \"scatterpolargl\": [{\"marker\": {\"colorbar\": {\"outlinewidth\": 0, \"ticks\": \"\"}}, \"type\": \"scatterpolargl\"}], \"scatterternary\": [{\"marker\": {\"colorbar\": {\"outlinewidth\": 0, \"ticks\": \"\"}}, \"type\": \"scatterternary\"}], \"surface\": [{\"colorbar\": {\"outlinewidth\": 0, \"ticks\": \"\"}, \"colorscale\": [[0.0, \"#0d0887\"], [0.1111111111111111, \"#46039f\"], [0.2222222222222222, \"#7201a8\"], [0.3333333333333333, \"#9c179e\"], [0.4444444444444444, \"#bd3786\"], [0.5555555555555556, \"#d8576b\"], [0.6666666666666666, \"#ed7953\"], [0.7777777777777778, \"#fb9f3a\"], [0.8888888888888888, \"#fdca26\"], [1.0, \"#f0f921\"]], \"type\": \"surface\"}], \"table\": [{\"cells\": {\"fill\": {\"color\": \"#EBF0F8\"}, \"line\": {\"color\": \"white\"}}, \"header\": {\"fill\": {\"color\": \"#C8D4E3\"}, \"line\": {\"color\": \"white\"}}, \"type\": \"table\"}]}, \"layout\": {\"annotationdefaults\": {\"arrowcolor\": \"#2a3f5f\", \"arrowhead\": 0, \"arrowwidth\": 1}, \"coloraxis\": {\"colorbar\": {\"outlinewidth\": 0, \"ticks\": \"\"}}, \"colorscale\": {\"diverging\": [[0, \"#8e0152\"], [0.1, \"#c51b7d\"], [0.2, \"#de77ae\"], [0.3, \"#f1b6da\"], [0.4, \"#fde0ef\"], [0.5, \"#f7f7f7\"], [0.6, \"#e6f5d0\"], [0.7, \"#b8e186\"], [0.8, \"#7fbc41\"], [0.9, \"#4d9221\"], [1, \"#276419\"]], \"sequential\": [[0.0, \"#0d0887\"], [0.1111111111111111, \"#46039f\"], [0.2222222222222222, \"#7201a8\"], [0.3333333333333333, \"#9c179e\"], [0.4444444444444444, \"#bd3786\"], [0.5555555555555556, \"#d8576b\"], [0.6666666666666666, \"#ed7953\"], [0.7777777777777778, \"#fb9f3a\"], [0.8888888888888888, \"#fdca26\"], [1.0, \"#f0f921\"]], \"sequentialminus\": [[0.0, \"#0d0887\"], [0.1111111111111111, \"#46039f\"], [0.2222222222222222, \"#7201a8\"], [0.3333333333333333, \"#9c179e\"], [0.4444444444444444, \"#bd3786\"], [0.5555555555555556, \"#d8576b\"], [0.6666666666666666, \"#ed7953\"], [0.7777777777777778, \"#fb9f3a\"], [0.8888888888888888, \"#fdca26\"], [1.0, \"#f0f921\"]]}, \"colorway\": [\"#636efa\", \"#EF553B\", \"#00cc96\", \"#ab63fa\", \"#FFA15A\", \"#19d3f3\", \"#FF6692\", \"#B6E880\", \"#FF97FF\", \"#FECB52\"], \"font\": {\"color\": \"#2a3f5f\"}, \"geo\": {\"bgcolor\": \"white\", \"lakecolor\": \"white\", \"landcolor\": \"#E5ECF6\", \"showlakes\": true, \"showland\": true, \"subunitcolor\": \"white\"}, \"hoverlabel\": {\"align\": \"left\"}, \"hovermode\": \"closest\", \"mapbox\": {\"style\": \"light\"}, \"paper_bgcolor\": \"white\", \"plot_bgcolor\": \"#E5ECF6\", \"polar\": {\"angularaxis\": {\"gridcolor\": \"white\", \"linecolor\": \"white\", \"ticks\": \"\"}, \"bgcolor\": \"#E5ECF6\", \"radialaxis\": {\"gridcolor\": \"white\", \"linecolor\": \"white\", \"ticks\": \"\"}}, \"scene\": {\"xaxis\": {\"backgroundcolor\": \"#E5ECF6\", \"gridcolor\": \"white\", \"gridwidth\": 2, \"linecolor\": \"white\", \"showbackground\": true, \"ticks\": \"\", \"zerolinecolor\": \"white\"}, \"yaxis\": {\"backgroundcolor\": \"#E5ECF6\", \"gridcolor\": \"white\", \"gridwidth\": 2, \"linecolor\": \"white\", \"showbackground\": true, \"ticks\": \"\", \"zerolinecolor\": \"white\"}, \"zaxis\": {\"backgroundcolor\": \"#E5ECF6\", \"gridcolor\": \"white\", \"gridwidth\": 2, \"linecolor\": \"white\", \"showbackground\": true, \"ticks\": \"\", \"zerolinecolor\": \"white\"}}, \"shapedefaults\": {\"line\": {\"color\": \"#2a3f5f\"}}, \"ternary\": {\"aaxis\": {\"gridcolor\": \"white\", \"linecolor\": \"white\", \"ticks\": \"\"}, \"baxis\": {\"gridcolor\": \"white\", \"linecolor\": \"white\", \"ticks\": \"\"}, \"bgcolor\": \"#E5ECF6\", \"caxis\": {\"gridcolor\": \"white\", \"linecolor\": \"white\", \"ticks\": \"\"}}, \"title\": {\"x\": 0.05}, \"xaxis\": {\"automargin\": true, \"gridcolor\": \"white\", \"linecolor\": \"white\", \"ticks\": \"\", \"title\": {\"standoff\": 15}, \"zerolinecolor\": \"white\", \"zerolinewidth\": 2}, \"yaxis\": {\"automargin\": true, \"gridcolor\": \"white\", \"linecolor\": \"white\", \"ticks\": \"\", \"title\": {\"standoff\": 15}, \"zerolinecolor\": \"white\", \"zerolinewidth\": 2}}}, \"title\": {\"text\": \"The Discussion for each Topic by gender\"}, \"xaxis\": {\"anchor\": \"y\", \"domain\": [0.0, 0.31999999999999995], \"title\": {\"text\": \"Topic\"}}, \"xaxis2\": {\"anchor\": \"y2\", \"domain\": [0.33999999999999997, 0.6599999999999999], \"matches\": \"x\", \"title\": {\"text\": \"Topic\"}}, \"xaxis3\": {\"anchor\": \"y3\", \"domain\": [0.6799999999999999, 0.9999999999999999], \"matches\": \"x\", \"title\": {\"text\": \"Topic\"}}, \"yaxis\": {\"anchor\": \"x\", \"domain\": [0.0, 1.0], \"title\": {\"text\": \"Discussion\"}}, \"yaxis2\": {\"anchor\": \"x2\", \"domain\": [0.0, 1.0], \"matches\": \"y\", \"showticklabels\": false}, \"yaxis3\": {\"anchor\": \"x3\", \"domain\": [0.0, 1.0], \"matches\": \"y\", \"showticklabels\": false}},\n",
              "                        {\"responsive\": true}\n",
              "                    ).then(function(){\n",
              "                            \n",
              "var gd = document.getElementById('ee2c2550-d2d0-4a9b-956c-2b04dc5c1739');\n",
              "var x = new MutationObserver(function (mutations, observer) {{\n",
              "        var display = window.getComputedStyle(gd).display;\n",
              "        if (!display || display === 'none') {{\n",
              "            console.log([gd, 'removed!']);\n",
              "            Plotly.purge(gd);\n",
              "            observer.disconnect();\n",
              "        }}\n",
              "}});\n",
              "\n",
              "// Listen for the removal of the full notebook cells\n",
              "var notebookContainer = gd.closest('#notebook-container');\n",
              "if (notebookContainer) {{\n",
              "    x.observe(notebookContainer, {childList: true});\n",
              "}}\n",
              "\n",
              "// Listen for the clearing of the current output cell\n",
              "var outputEl = gd.closest('.output');\n",
              "if (outputEl) {{\n",
              "    x.observe(outputEl, {childList: true});\n",
              "}}\n",
              "\n",
              "                        })\n",
              "                };\n",
              "                \n",
              "            </script>\n",
              "        </div>\n",
              "</body>\n",
              "</html>"
            ]
          },
          "metadata": {
            "tags": []
          }
        }
      ]
    },
    {
      "cell_type": "code",
      "metadata": {
        "colab": {
          "base_uri": "https://localhost:8080/",
          "height": 542
        },
        "id": "-iAaQF8tEMH0",
        "outputId": "5516d0a3-1a06-4061-f068-15f912a63582"
      },
      "source": [
        "px.line(\n",
        "    data_frame= df,\n",
        "    y = \"raisedhands\",\n",
        "    title = \"Count the RaisdHands in each Schoole Level\",\n",
        "    hover_data = [\"gender\",\"StageID\"],\n",
        "    color=\"StudentAbsenceDays\",\n",
        "   # labels = {\"index\":\"My X Axis\", \"body_mass_g\":\"My y axis\"} # Make sure to use column names as the key\n",
        "\n",
        ")\n"
      ],
      "execution_count": null,
      "outputs": [
        {
          "output_type": "display_data",
          "data": {
            "text/html": [
              "<html>\n",
              "<head><meta charset=\"utf-8\" /></head>\n",
              "<body>\n",
              "    <div>\n",
              "            <script src=\"https://cdnjs.cloudflare.com/ajax/libs/mathjax/2.7.5/MathJax.js?config=TeX-AMS-MML_SVG\"></script><script type=\"text/javascript\">if (window.MathJax) {MathJax.Hub.Config({SVG: {font: \"STIX-Web\"}});}</script>\n",
              "                <script type=\"text/javascript\">window.PlotlyConfig = {MathJaxConfig: 'local'};</script>\n",
              "        <script src=\"https://cdn.plot.ly/plotly-latest.min.js\"></script>    \n",
              "            <div id=\"26d8b9ca-0cf7-4c6d-b961-e27e8f3cd914\" class=\"plotly-graph-div\" style=\"height:525px; width:100%;\"></div>\n",
              "            <script type=\"text/javascript\">\n",
              "                \n",
              "                    window.PLOTLYENV=window.PLOTLYENV || {};\n",
              "                    \n",
              "                if (document.getElementById(\"26d8b9ca-0cf7-4c6d-b961-e27e8f3cd914\")) {\n",
              "                    Plotly.newPlot(\n",
              "                        '26d8b9ca-0cf7-4c6d-b961-e27e8f3cd914',\n",
              "                        [{\"customdata\": [[\"M\", \"lowerlevel\"], [\"M\", \"lowerlevel\"], [\"M\", \"MiddleSchool\"], [\"F\", \"MiddleSchool\"], [\"F\", \"MiddleSchool\"], [\"M\", \"MiddleSchool\"], [\"M\", \"MiddleSchool\"], [\"F\", \"MiddleSchool\"], [\"F\", \"MiddleSchool\"], [\"M\", \"MiddleSchool\"], [\"F\", \"MiddleSchool\"], [\"M\", \"MiddleSchool\"], [\"M\", \"MiddleSchool\"], [\"M\", \"MiddleSchool\"], [\"F\", \"MiddleSchool\"], [\"F\", \"MiddleSchool\"], [\"F\", \"MiddleSchool\"], [\"F\", \"MiddleSchool\"], [\"M\", \"MiddleSchool\"], [\"F\", \"HighSchool\"], [\"F\", \"HighSchool\"], [\"F\", \"HighSchool\"], [\"F\", \"HighSchool\"], [\"F\", \"HighSchool\"], [\"F\", \"HighSchool\"], [\"F\", \"HighSchool\"], [\"M\", \"MiddleSchool\"], [\"F\", \"MiddleSchool\"], [\"M\", \"HighSchool\"], [\"M\", \"HighSchool\"], [\"M\", \"HighSchool\"], [\"F\", \"HighSchool\"], [\"F\", \"HighSchool\"], [\"M\", \"MiddleSchool\"], [\"M\", \"MiddleSchool\"], [\"M\", \"MiddleSchool\"], [\"M\", \"MiddleSchool\"], [\"M\", \"MiddleSchool\"], [\"M\", \"HighSchool\"], [\"M\", \"HighSchool\"], [\"F\", \"MiddleSchool\"], [\"M\", \"MiddleSchool\"], [\"M\", \"lowerlevel\"], [\"M\", \"lowerlevel\"], [\"F\", \"lowerlevel\"], [\"M\", \"lowerlevel\"], [\"F\", \"lowerlevel\"], [\"M\", \"lowerlevel\"], [\"F\", \"lowerlevel\"], [\"F\", \"lowerlevel\"], [\"F\", \"lowerlevel\"], [\"F\", \"lowerlevel\"], [\"M\", \"lowerlevel\"], [\"F\", \"lowerlevel\"], [\"F\", \"lowerlevel\"], [\"M\", \"lowerlevel\"], [\"M\", \"lowerlevel\"], [\"F\", \"lowerlevel\"], [\"M\", \"lowerlevel\"], [\"F\", \"lowerlevel\"], [\"M\", \"lowerlevel\"], [\"M\", \"lowerlevel\"], [\"F\", \"lowerlevel\"], [\"M\", \"lowerlevel\"], [\"F\", \"lowerlevel\"], [\"M\", \"lowerlevel\"], [\"M\", \"lowerlevel\"], [\"M\", \"lowerlevel\"], [\"M\", \"MiddleSchool\"], [\"F\", \"MiddleSchool\"], [\"F\", \"HighSchool\"], [\"F\", \"HighSchool\"], [\"F\", \"MiddleSchool\"], [\"M\", \"MiddleSchool\"], [\"M\", \"MiddleSchool\"], [\"M\", \"MiddleSchool\"], [\"M\", \"MiddleSchool\"], [\"F\", \"MiddleSchool\"], [\"F\", \"MiddleSchool\"], [\"F\", \"MiddleSchool\"], [\"F\", \"MiddleSchool\"], [\"M\", \"HighSchool\"], [\"M\", \"HighSchool\"], [\"F\", \"HighSchool\"], [\"M\", \"HighSchool\"], [\"F\", \"HighSchool\"], [\"M\", \"HighSchool\"], [\"F\", \"MiddleSchool\"], [\"F\", \"MiddleSchool\"], [\"M\", \"MiddleSchool\"], [\"F\", \"lowerlevel\"], [\"F\", \"lowerlevel\"], [\"M\", \"lowerlevel\"], [\"M\", \"lowerlevel\"], [\"M\", \"lowerlevel\"], [\"M\", \"lowerlevel\"], [\"M\", \"lowerlevel\"], [\"M\", \"lowerlevel\"], [\"M\", \"lowerlevel\"], [\"F\", \"lowerlevel\"], [\"F\", \"lowerlevel\"], [\"M\", \"lowerlevel\"], [\"F\", \"lowerlevel\"], [\"M\", \"MiddleSchool\"], [\"F\", \"MiddleSchool\"], [\"M\", \"MiddleSchool\"], [\"M\", \"MiddleSchool\"], [\"F\", \"MiddleSchool\"], [\"M\", \"MiddleSchool\"], [\"F\", \"MiddleSchool\"], [\"M\", \"MiddleSchool\"], [\"M\", \"MiddleSchool\"], [\"M\", \"MiddleSchool\"], [\"M\", \"MiddleSchool\"], [\"M\", \"MiddleSchool\"], [\"M\", \"MiddleSchool\"], [\"M\", \"MiddleSchool\"], [\"M\", \"MiddleSchool\"], [\"M\", \"MiddleSchool\"], [\"F\", \"MiddleSchool\"], [\"M\", \"MiddleSchool\"], [\"F\", \"MiddleSchool\"], [\"M\", \"MiddleSchool\"], [\"M\", \"MiddleSchool\"], [\"M\", \"MiddleSchool\"], [\"M\", \"MiddleSchool\"], [\"M\", \"MiddleSchool\"], [\"M\", \"MiddleSchool\"], [\"M\", \"MiddleSchool\"], [\"F\", \"MiddleSchool\"], [\"M\", \"MiddleSchool\"], [\"M\", \"MiddleSchool\"], [\"M\", \"MiddleSchool\"], [\"M\", \"MiddleSchool\"], [\"M\", \"MiddleSchool\"], [\"M\", \"MiddleSchool\"], [\"M\", \"MiddleSchool\"], [\"M\", \"MiddleSchool\"], [\"M\", \"MiddleSchool\"], [\"M\", \"MiddleSchool\"], [\"M\", \"MiddleSchool\"], [\"M\", \"MiddleSchool\"], [\"M\", \"MiddleSchool\"], [\"M\", \"MiddleSchool\"], [\"F\", \"MiddleSchool\"], [\"F\", \"MiddleSchool\"], [\"M\", \"lowerlevel\"], [\"F\", \"lowerlevel\"], [\"M\", \"lowerlevel\"], [\"M\", \"lowerlevel\"], [\"F\", \"lowerlevel\"], [\"F\", \"lowerlevel\"], [\"F\", \"lowerlevel\"], [\"F\", \"MiddleSchool\"], [\"F\", \"MiddleSchool\"], [\"F\", \"MiddleSchool\"], [\"F\", \"MiddleSchool\"], [\"M\", \"MiddleSchool\"], [\"M\", \"MiddleSchool\"], [\"F\", \"MiddleSchool\"], [\"F\", \"MiddleSchool\"], [\"M\", \"MiddleSchool\"], [\"M\", \"MiddleSchool\"], [\"M\", \"MiddleSchool\"], [\"M\", \"MiddleSchool\"], [\"M\", \"MiddleSchool\"], [\"M\", \"MiddleSchool\"], [\"F\", \"MiddleSchool\"], [\"F\", \"MiddleSchool\"], [\"F\", \"MiddleSchool\"], [\"F\", \"MiddleSchool\"], [\"M\", \"MiddleSchool\"], [\"M\", \"MiddleSchool\"], [\"F\", \"lowerlevel\"], [\"F\", \"lowerlevel\"], [\"F\", \"lowerlevel\"], [\"F\", \"lowerlevel\"], [\"F\", \"lowerlevel\"], [\"F\", \"lowerlevel\"], [\"F\", \"lowerlevel\"], [\"F\", \"lowerlevel\"], [\"M\", \"lowerlevel\"], [\"M\", \"lowerlevel\"], [\"F\", \"lowerlevel\"], [\"F\", \"lowerlevel\"], [\"F\", \"lowerlevel\"], [\"F\", \"lowerlevel\"], [\"M\", \"lowerlevel\"], [\"M\", \"lowerlevel\"], [\"F\", \"lowerlevel\"], [\"F\", \"lowerlevel\"], [\"M\", \"lowerlevel\"], [\"M\", \"lowerlevel\"], [\"F\", \"lowerlevel\"], [\"F\", \"lowerlevel\"], [\"F\", \"lowerlevel\"], [\"F\", \"lowerlevel\"], [\"F\", \"lowerlevel\"], [\"F\", \"lowerlevel\"], [\"F\", \"lowerlevel\"], [\"F\", \"lowerlevel\"], [\"F\", \"lowerlevel\"], [\"F\", \"lowerlevel\"], [\"M\", \"lowerlevel\"], [\"M\", \"lowerlevel\"], [\"F\", \"lowerlevel\"], [\"F\", \"lowerlevel\"], [\"F\", \"lowerlevel\"], [\"F\", \"lowerlevel\"], [\"F\", \"lowerlevel\"], [\"F\", \"lowerlevel\"], [\"M\", \"lowerlevel\"], [\"M\", \"lowerlevel\"], [\"M\", \"lowerlevel\"], [\"M\", \"lowerlevel\"], [\"F\", \"lowerlevel\"], [\"F\", \"lowerlevel\"], [\"M\", \"lowerlevel\"], [\"M\", \"lowerlevel\"], [\"M\", \"lowerlevel\"], [\"M\", \"lowerlevel\"], [\"F\", \"lowerlevel\"], [\"F\", \"lowerlevel\"], [\"M\", \"lowerlevel\"], [\"M\", \"lowerlevel\"], [\"M\", \"lowerlevel\"], [\"M\", \"lowerlevel\"], [\"F\", \"lowerlevel\"], [\"F\", \"lowerlevel\"], [\"M\", \"lowerlevel\"], [\"M\", \"lowerlevel\"], [\"F\", \"MiddleSchool\"], [\"F\", \"MiddleSchool\"], [\"M\", \"MiddleSchool\"], [\"M\", \"MiddleSchool\"], [\"M\", \"MiddleSchool\"], [\"M\", \"MiddleSchool\"], [\"M\", \"MiddleSchool\"], [\"M\", \"MiddleSchool\"], [\"M\", \"MiddleSchool\"], [\"M\", \"MiddleSchool\"], [\"F\", \"MiddleSchool\"], [\"F\", \"MiddleSchool\"], [\"M\", \"MiddleSchool\"], [\"M\", \"MiddleSchool\"], [\"F\", \"MiddleSchool\"], [\"F\", \"MiddleSchool\"], [\"M\", \"MiddleSchool\"], [\"M\", \"MiddleSchool\"], [\"M\", \"MiddleSchool\"], [\"M\", \"MiddleSchool\"], [\"M\", \"MiddleSchool\"], [\"M\", \"MiddleSchool\"], [\"F\", \"MiddleSchool\"], [\"F\", \"MiddleSchool\"], [\"F\", \"MiddleSchool\"], [\"F\", \"MiddleSchool\"], [\"M\", \"MiddleSchool\"], [\"M\", \"MiddleSchool\"], [\"M\", \"MiddleSchool\"], [\"M\", \"MiddleSchool\"], [\"M\", \"MiddleSchool\"], [\"M\", \"MiddleSchool\"], [\"M\", \"MiddleSchool\"], [\"M\", \"MiddleSchool\"], [\"M\", \"MiddleSchool\"], [\"M\", \"MiddleSchool\"], [\"M\", \"MiddleSchool\"], [\"M\", \"MiddleSchool\"], [\"M\", \"MiddleSchool\"], [\"M\", \"MiddleSchool\"], [\"F\", \"MiddleSchool\"], [\"F\", \"MiddleSchool\"], [\"F\", \"MiddleSchool\"], [\"F\", \"MiddleSchool\"], [\"F\", \"MiddleSchool\"], [\"F\", \"MiddleSchool\"], [\"M\", \"MiddleSchool\"], [\"M\", \"MiddleSchool\"], [\"F\", \"MiddleSchool\"], [\"F\", \"MiddleSchool\"], [\"F\", \"MiddleSchool\"], [\"F\", \"MiddleSchool\"], [\"M\", \"MiddleSchool\"], [\"M\", \"MiddleSchool\"], [\"M\", \"MiddleSchool\"], [\"M\", \"MiddleSchool\"], [\"F\", \"MiddleSchool\"], [\"F\", \"MiddleSchool\"]], \"hoverlabel\": {\"namelength\": 0}, \"hovertemplate\": \"StudentAbsenceDays=Under-7<br>raisedhands=%{y}<br>gender=%{customdata[0]}<br>StageID=%{customdata[1]}\", \"legendgroup\": \"StudentAbsenceDays=Under-7\", \"line\": {\"color\": \"#636efa\", \"dash\": \"solid\"}, \"mode\": \"lines\", \"name\": \"StudentAbsenceDays=Under-7\", \"showlegend\": true, \"type\": \"scatter\", \"xaxis\": \"x\", \"y\": [15, 20, 50, 12, 70, 50, 19, 30, 69, 70, 10, 15, 19, 75, 30, 35, 45, 50, 19, 30, 33, 70, 13, 29, 55, 49, 28, 27, 50, 80, 17, 65, 70, 39, 29, 11, 12, 50, 15, 20, 80, 8, 70, 19, 3, 80, 50, 55, 100, 14, 6, 10, 50, 70, 12, 70, 90, 70, 77, 25, 60, 21, 70, 0, 2, 12, 70, 80, 80, 70, 70, 60, 100, 100, 10, 80, 70, 100, 10, 60, 100, 80, 23, 100, 70, 70, 70, 62, 82, 72, 70, 72, 51, 80, 60, 30, 40, 60, 60, 15, 80, 40, 60, 85, 25, 87, 85, 80, 75, 85, 23, 95, 81, 53, 15, 92, 83, 45, 15, 45, 25, 22, 67, 17, 27, 70, 27, 17, 87, 87, 96, 57, 77, 80, 62, 72, 87, 72, 2, 5, 92, 72, 72, 70, 50, 80, 15, 69, 59, 10, 80, 70, 80, 70, 79, 90, 92, 42, 22, 95, 90, 72, 92, 82, 72, 74, 74, 95, 97, 51, 81, 71, 75, 90, 62, 98, 72, 11, 12, 15, 32, 65, 72, 55, 62, 78, 72, 60, 50, 60, 50, 24, 27, 80, 75, 10, 25, 70, 75, 78, 79, 16, 17, 40, 35, 14, 13, 24, 23, 10, 25, 30, 35, 32, 25, 72, 75, 90, 80, 80, 78, 98, 75, 10, 35, 69, 70, 89, 79, 15, 20, 86, 90, 78, 70, 80, 85, 88, 89, 76, 65, 96, 80, 50, 53, 70, 59, 78, 79, 98, 89, 88, 99, 82, 84, 90, 84, 85, 80, 95, 87, 80, 70, 80, 70, 89, 90, 77, 71, 87, 81, 15, 19, 45, 39, 85, 79, 90, 80, 85, 89, 80, 87, 81, 78, 80, 85, 50, 55], \"yaxis\": \"y\"}, {\"customdata\": [[\"M\", \"lowerlevel\"], [\"M\", \"lowerlevel\"], [\"M\", \"lowerlevel\"], [\"F\", \"lowerlevel\"], [\"M\", \"MiddleSchool\"], [\"M\", \"lowerlevel\"], [\"M\", \"MiddleSchool\"], [\"F\", \"MiddleSchool\"], [\"M\", \"MiddleSchool\"], [\"M\", \"MiddleSchool\"], [\"F\", \"MiddleSchool\"], [\"M\", \"MiddleSchool\"], [\"M\", \"MiddleSchool\"], [\"M\", \"MiddleSchool\"], [\"M\", \"MiddleSchool\"], [\"M\", \"MiddleSchool\"], [\"F\", \"lowerlevel\"], [\"M\", \"lowerlevel\"], [\"M\", \"MiddleSchool\"], [\"M\", \"MiddleSchool\"], [\"M\", \"MiddleSchool\"], [\"M\", \"MiddleSchool\"], [\"F\", \"MiddleSchool\"], [\"M\", \"HighSchool\"], [\"M\", \"MiddleSchool\"], [\"M\", \"lowerlevel\"], [\"F\", \"HighSchool\"], [\"M\", \"HighSchool\"], [\"M\", \"HighSchool\"], [\"M\", \"MiddleSchool\"], [\"M\", \"MiddleSchool\"], [\"M\", \"MiddleSchool\"], [\"F\", \"lowerlevel\"], [\"M\", \"HighSchool\"], [\"M\", \"HighSchool\"], [\"F\", \"HighSchool\"], [\"M\", \"MiddleSchool\"], [\"F\", \"MiddleSchool\"], [\"M\", \"HighSchool\"], [\"M\", \"lowerlevel\"], [\"M\", \"lowerlevel\"], [\"M\", \"lowerlevel\"], [\"M\", \"lowerlevel\"], [\"M\", \"lowerlevel\"], [\"M\", \"lowerlevel\"], [\"M\", \"lowerlevel\"], [\"F\", \"lowerlevel\"], [\"M\", \"lowerlevel\"], [\"F\", \"lowerlevel\"], [\"M\", \"lowerlevel\"], [\"M\", \"lowerlevel\"], [\"F\", \"lowerlevel\"], [\"M\", \"lowerlevel\"], [\"M\", \"lowerlevel\"], [\"M\", \"lowerlevel\"], [\"M\", \"lowerlevel\"], [\"M\", \"lowerlevel\"], [\"F\", \"lowerlevel\"], [\"F\", \"lowerlevel\"], [\"M\", \"lowerlevel\"], [\"F\", \"lowerlevel\"], [\"M\", \"lowerlevel\"], [\"M\", \"lowerlevel\"], [\"F\", \"lowerlevel\"], [\"M\", \"lowerlevel\"], [\"M\", \"lowerlevel\"], [\"M\", \"MiddleSchool\"], [\"M\", \"MiddleSchool\"], [\"M\", \"MiddleSchool\"], [\"M\", \"HighSchool\"], [\"M\", \"HighSchool\"], [\"M\", \"MiddleSchool\"], [\"F\", \"lowerlevel\"], [\"M\", \"lowerlevel\"], [\"M\", \"lowerlevel\"], [\"M\", \"lowerlevel\"], [\"F\", \"lowerlevel\"], [\"M\", \"lowerlevel\"], [\"M\", \"lowerlevel\"], [\"M\", \"MiddleSchool\"], [\"M\", \"MiddleSchool\"], [\"M\", \"MiddleSchool\"], [\"M\", \"MiddleSchool\"], [\"F\", \"MiddleSchool\"], [\"M\", \"MiddleSchool\"], [\"M\", \"MiddleSchool\"], [\"M\", \"MiddleSchool\"], [\"M\", \"MiddleSchool\"], [\"M\", \"HighSchool\"], [\"M\", \"MiddleSchool\"], [\"M\", \"MiddleSchool\"], [\"M\", \"MiddleSchool\"], [\"M\", \"MiddleSchool\"], [\"F\", \"MiddleSchool\"], [\"M\", \"MiddleSchool\"], [\"M\", \"MiddleSchool\"], [\"M\", \"MiddleSchool\"], [\"M\", \"MiddleSchool\"], [\"F\", \"MiddleSchool\"], [\"M\", \"MiddleSchool\"], [\"M\", \"MiddleSchool\"], [\"F\", \"MiddleSchool\"], [\"F\", \"MiddleSchool\"], [\"M\", \"lowerlevel\"], [\"M\", \"lowerlevel\"], [\"M\", \"lowerlevel\"], [\"M\", \"lowerlevel\"], [\"M\", \"lowerlevel\"], [\"M\", \"lowerlevel\"], [\"F\", \"lowerlevel\"], [\"M\", \"lowerlevel\"], [\"M\", \"MiddleSchool\"], [\"M\", \"MiddleSchool\"], [\"M\", \"MiddleSchool\"], [\"M\", \"MiddleSchool\"], [\"M\", \"MiddleSchool\"], [\"M\", \"MiddleSchool\"], [\"F\", \"lowerlevel\"], [\"F\", \"lowerlevel\"], [\"M\", \"lowerlevel\"], [\"M\", \"lowerlevel\"], [\"M\", \"lowerlevel\"], [\"M\", \"lowerlevel\"], [\"M\", \"lowerlevel\"], [\"M\", \"lowerlevel\"], [\"M\", \"lowerlevel\"], [\"M\", \"lowerlevel\"], [\"M\", \"lowerlevel\"], [\"M\", \"lowerlevel\"], [\"F\", \"lowerlevel\"], [\"F\", \"lowerlevel\"], [\"M\", \"lowerlevel\"], [\"M\", \"lowerlevel\"], [\"M\", \"lowerlevel\"], [\"M\", \"lowerlevel\"], [\"M\", \"lowerlevel\"], [\"M\", \"lowerlevel\"], [\"M\", \"lowerlevel\"], [\"M\", \"lowerlevel\"], [\"M\", \"lowerlevel\"], [\"M\", \"lowerlevel\"], [\"M\", \"lowerlevel\"], [\"M\", \"lowerlevel\"], [\"M\", \"lowerlevel\"], [\"M\", \"lowerlevel\"], [\"M\", \"lowerlevel\"], [\"M\", \"lowerlevel\"], [\"F\", \"lowerlevel\"], [\"F\", \"lowerlevel\"], [\"M\", \"lowerlevel\"], [\"M\", \"lowerlevel\"], [\"M\", \"lowerlevel\"], [\"M\", \"lowerlevel\"], [\"M\", \"lowerlevel\"], [\"M\", \"lowerlevel\"], [\"F\", \"lowerlevel\"], [\"F\", \"lowerlevel\"], [\"M\", \"lowerlevel\"], [\"M\", \"lowerlevel\"], [\"F\", \"MiddleSchool\"], [\"F\", \"MiddleSchool\"], [\"M\", \"MiddleSchool\"], [\"M\", \"MiddleSchool\"], [\"M\", \"MiddleSchool\"], [\"M\", \"MiddleSchool\"], [\"F\", \"MiddleSchool\"], [\"F\", \"MiddleSchool\"], [\"F\", \"MiddleSchool\"], [\"F\", \"MiddleSchool\"], [\"M\", \"MiddleSchool\"], [\"M\", \"MiddleSchool\"], [\"M\", \"MiddleSchool\"], [\"M\", \"MiddleSchool\"], [\"M\", \"MiddleSchool\"], [\"M\", \"MiddleSchool\"], [\"M\", \"MiddleSchool\"], [\"M\", \"MiddleSchool\"], [\"M\", \"MiddleSchool\"], [\"M\", \"MiddleSchool\"], [\"F\", \"MiddleSchool\"], [\"F\", \"MiddleSchool\"], [\"M\", \"MiddleSchool\"], [\"M\", \"MiddleSchool\"], [\"M\", \"MiddleSchool\"], [\"M\", \"MiddleSchool\"], [\"F\", \"MiddleSchool\"], [\"F\", \"MiddleSchool\"], [\"F\", \"MiddleSchool\"], [\"F\", \"MiddleSchool\"], [\"F\", \"MiddleSchool\"], [\"F\", \"MiddleSchool\"]], \"hoverlabel\": {\"namelength\": 0}, \"hovertemplate\": \"StudentAbsenceDays=Above-7<br>raisedhands=%{y}<br>gender=%{customdata[0]}<br>StageID=%{customdata[1]}\", \"legendgroup\": \"StudentAbsenceDays=Above-7\", \"line\": {\"color\": \"#EF553B\", \"dash\": \"solid\"}, \"mode\": \"lines\", \"name\": \"StudentAbsenceDays=Above-7\", \"showlegend\": true, \"type\": \"scatter\", \"xaxis\": \"x\", \"y\": [10, 30, 40, 42, 35, 5, 20, 62, 36, 55, 60, 2, 0, 8, 25, 4, 2, 8, 12, 10, 8, 0, 14, 10, 20, 7, 20, 39, 12, 16, 19, 5, 21, 0, 13, 25, 22, 19, 13, 8, 7, 7, 50, 1, 5, 4, 80, 50, 2, 1, 0, 0, 7, 2, 25, 11, 0, 77, 24, 0, 66, 12, 55, 7, 0, 12, 10, 19, 10, 10, 70, 22, 60, 55, 20, 20, 50, 10, 50, 10, 15, 27, 29, 72, 7, 17, 5, 27, 73, 5, 51, 9, 19, 32, 32, 12, 52, 72, 72, 22, 12, 87, 70, 65, 19, 39, 69, 10, 61, 21, 49, 19, 11, 10, 18, 40, 41, 49, 42, 90, 62, 18, 32, 10, 22, 95, 82, 25, 42, 60, 50, 10, 30, 10, 30, 40, 35, 10, 15, 20, 15, 5, 7, 20, 10, 10, 10, 10, 5, 10, 35, 20, 32, 10, 12, 11, 10, 4, 5, 88, 90, 39, 35, 2, 3, 10, 9, 70, 74, 80, 81, 10, 11, 85, 79, 69, 70, 75, 72, 25, 29, 80, 71, 72, 69, 15, 9, 2, 5, 30, 35], \"yaxis\": \"y\"}],\n",
              "                        {\"legend\": {\"tracegroupgap\": 0}, \"template\": {\"data\": {\"bar\": [{\"error_x\": {\"color\": \"#2a3f5f\"}, \"error_y\": {\"color\": \"#2a3f5f\"}, \"marker\": {\"line\": {\"color\": \"#E5ECF6\", \"width\": 0.5}}, \"type\": \"bar\"}], \"barpolar\": [{\"marker\": {\"line\": {\"color\": \"#E5ECF6\", \"width\": 0.5}}, \"type\": \"barpolar\"}], \"carpet\": [{\"aaxis\": {\"endlinecolor\": \"#2a3f5f\", \"gridcolor\": \"white\", \"linecolor\": \"white\", \"minorgridcolor\": \"white\", \"startlinecolor\": \"#2a3f5f\"}, \"baxis\": {\"endlinecolor\": \"#2a3f5f\", \"gridcolor\": \"white\", \"linecolor\": \"white\", \"minorgridcolor\": \"white\", \"startlinecolor\": \"#2a3f5f\"}, \"type\": \"carpet\"}], \"choropleth\": [{\"colorbar\": {\"outlinewidth\": 0, \"ticks\": \"\"}, \"type\": \"choropleth\"}], \"contour\": [{\"colorbar\": {\"outlinewidth\": 0, \"ticks\": \"\"}, \"colorscale\": [[0.0, \"#0d0887\"], [0.1111111111111111, \"#46039f\"], [0.2222222222222222, \"#7201a8\"], [0.3333333333333333, \"#9c179e\"], [0.4444444444444444, \"#bd3786\"], [0.5555555555555556, \"#d8576b\"], [0.6666666666666666, \"#ed7953\"], [0.7777777777777778, \"#fb9f3a\"], [0.8888888888888888, \"#fdca26\"], [1.0, \"#f0f921\"]], \"type\": \"contour\"}], \"contourcarpet\": [{\"colorbar\": {\"outlinewidth\": 0, \"ticks\": \"\"}, \"type\": \"contourcarpet\"}], \"heatmap\": [{\"colorbar\": {\"outlinewidth\": 0, \"ticks\": \"\"}, \"colorscale\": [[0.0, \"#0d0887\"], [0.1111111111111111, \"#46039f\"], [0.2222222222222222, \"#7201a8\"], [0.3333333333333333, \"#9c179e\"], [0.4444444444444444, \"#bd3786\"], [0.5555555555555556, \"#d8576b\"], [0.6666666666666666, \"#ed7953\"], [0.7777777777777778, \"#fb9f3a\"], [0.8888888888888888, \"#fdca26\"], [1.0, \"#f0f921\"]], \"type\": \"heatmap\"}], \"heatmapgl\": [{\"colorbar\": {\"outlinewidth\": 0, \"ticks\": \"\"}, \"colorscale\": [[0.0, \"#0d0887\"], [0.1111111111111111, \"#46039f\"], [0.2222222222222222, \"#7201a8\"], [0.3333333333333333, \"#9c179e\"], [0.4444444444444444, \"#bd3786\"], [0.5555555555555556, \"#d8576b\"], [0.6666666666666666, \"#ed7953\"], [0.7777777777777778, \"#fb9f3a\"], [0.8888888888888888, \"#fdca26\"], [1.0, \"#f0f921\"]], \"type\": \"heatmapgl\"}], \"histogram\": [{\"marker\": {\"colorbar\": {\"outlinewidth\": 0, \"ticks\": \"\"}}, \"type\": \"histogram\"}], \"histogram2d\": [{\"colorbar\": {\"outlinewidth\": 0, \"ticks\": \"\"}, \"colorscale\": [[0.0, \"#0d0887\"], [0.1111111111111111, \"#46039f\"], [0.2222222222222222, \"#7201a8\"], [0.3333333333333333, \"#9c179e\"], [0.4444444444444444, \"#bd3786\"], [0.5555555555555556, \"#d8576b\"], [0.6666666666666666, \"#ed7953\"], [0.7777777777777778, \"#fb9f3a\"], [0.8888888888888888, \"#fdca26\"], [1.0, \"#f0f921\"]], \"type\": \"histogram2d\"}], \"histogram2dcontour\": [{\"colorbar\": {\"outlinewidth\": 0, \"ticks\": \"\"}, \"colorscale\": [[0.0, \"#0d0887\"], [0.1111111111111111, \"#46039f\"], [0.2222222222222222, \"#7201a8\"], [0.3333333333333333, \"#9c179e\"], [0.4444444444444444, \"#bd3786\"], [0.5555555555555556, \"#d8576b\"], [0.6666666666666666, \"#ed7953\"], [0.7777777777777778, \"#fb9f3a\"], [0.8888888888888888, \"#fdca26\"], [1.0, \"#f0f921\"]], \"type\": \"histogram2dcontour\"}], \"mesh3d\": [{\"colorbar\": {\"outlinewidth\": 0, \"ticks\": \"\"}, \"type\": \"mesh3d\"}], \"parcoords\": [{\"line\": {\"colorbar\": {\"outlinewidth\": 0, \"ticks\": \"\"}}, \"type\": \"parcoords\"}], \"pie\": [{\"automargin\": true, \"type\": \"pie\"}], \"scatter\": [{\"marker\": {\"colorbar\": {\"outlinewidth\": 0, \"ticks\": \"\"}}, \"type\": \"scatter\"}], \"scatter3d\": [{\"line\": {\"colorbar\": {\"outlinewidth\": 0, \"ticks\": \"\"}}, \"marker\": {\"colorbar\": {\"outlinewidth\": 0, \"ticks\": \"\"}}, \"type\": \"scatter3d\"}], \"scattercarpet\": [{\"marker\": {\"colorbar\": {\"outlinewidth\": 0, \"ticks\": \"\"}}, \"type\": \"scattercarpet\"}], \"scattergeo\": [{\"marker\": {\"colorbar\": {\"outlinewidth\": 0, \"ticks\": \"\"}}, \"type\": \"scattergeo\"}], \"scattergl\": [{\"marker\": {\"colorbar\": {\"outlinewidth\": 0, \"ticks\": \"\"}}, \"type\": \"scattergl\"}], \"scattermapbox\": [{\"marker\": {\"colorbar\": {\"outlinewidth\": 0, \"ticks\": \"\"}}, \"type\": \"scattermapbox\"}], \"scatterpolar\": [{\"marker\": {\"colorbar\": {\"outlinewidth\": 0, \"ticks\": \"\"}}, \"type\": \"scatterpolar\"}], \"scatterpolargl\": [{\"marker\": {\"colorbar\": {\"outlinewidth\": 0, \"ticks\": \"\"}}, \"type\": \"scatterpolargl\"}], \"scatterternary\": [{\"marker\": {\"colorbar\": {\"outlinewidth\": 0, \"ticks\": \"\"}}, \"type\": \"scatterternary\"}], \"surface\": [{\"colorbar\": {\"outlinewidth\": 0, \"ticks\": \"\"}, \"colorscale\": [[0.0, \"#0d0887\"], [0.1111111111111111, \"#46039f\"], [0.2222222222222222, \"#7201a8\"], [0.3333333333333333, \"#9c179e\"], [0.4444444444444444, \"#bd3786\"], [0.5555555555555556, \"#d8576b\"], [0.6666666666666666, \"#ed7953\"], [0.7777777777777778, \"#fb9f3a\"], [0.8888888888888888, \"#fdca26\"], [1.0, \"#f0f921\"]], \"type\": \"surface\"}], \"table\": [{\"cells\": {\"fill\": {\"color\": \"#EBF0F8\"}, \"line\": {\"color\": \"white\"}}, \"header\": {\"fill\": {\"color\": \"#C8D4E3\"}, \"line\": {\"color\": \"white\"}}, \"type\": \"table\"}]}, \"layout\": {\"annotationdefaults\": {\"arrowcolor\": \"#2a3f5f\", \"arrowhead\": 0, \"arrowwidth\": 1}, \"coloraxis\": {\"colorbar\": {\"outlinewidth\": 0, \"ticks\": \"\"}}, \"colorscale\": {\"diverging\": [[0, \"#8e0152\"], [0.1, \"#c51b7d\"], [0.2, \"#de77ae\"], [0.3, \"#f1b6da\"], [0.4, \"#fde0ef\"], [0.5, \"#f7f7f7\"], [0.6, \"#e6f5d0\"], [0.7, \"#b8e186\"], [0.8, \"#7fbc41\"], [0.9, \"#4d9221\"], [1, \"#276419\"]], \"sequential\": [[0.0, \"#0d0887\"], [0.1111111111111111, \"#46039f\"], [0.2222222222222222, \"#7201a8\"], [0.3333333333333333, \"#9c179e\"], [0.4444444444444444, \"#bd3786\"], [0.5555555555555556, \"#d8576b\"], [0.6666666666666666, \"#ed7953\"], [0.7777777777777778, \"#fb9f3a\"], [0.8888888888888888, \"#fdca26\"], [1.0, \"#f0f921\"]], \"sequentialminus\": [[0.0, \"#0d0887\"], [0.1111111111111111, \"#46039f\"], [0.2222222222222222, \"#7201a8\"], [0.3333333333333333, \"#9c179e\"], [0.4444444444444444, \"#bd3786\"], [0.5555555555555556, \"#d8576b\"], [0.6666666666666666, \"#ed7953\"], [0.7777777777777778, \"#fb9f3a\"], [0.8888888888888888, \"#fdca26\"], [1.0, \"#f0f921\"]]}, \"colorway\": [\"#636efa\", \"#EF553B\", \"#00cc96\", \"#ab63fa\", \"#FFA15A\", \"#19d3f3\", \"#FF6692\", \"#B6E880\", \"#FF97FF\", \"#FECB52\"], \"font\": {\"color\": \"#2a3f5f\"}, \"geo\": {\"bgcolor\": \"white\", \"lakecolor\": \"white\", \"landcolor\": \"#E5ECF6\", \"showlakes\": true, \"showland\": true, \"subunitcolor\": \"white\"}, \"hoverlabel\": {\"align\": \"left\"}, \"hovermode\": \"closest\", \"mapbox\": {\"style\": \"light\"}, \"paper_bgcolor\": \"white\", \"plot_bgcolor\": \"#E5ECF6\", \"polar\": {\"angularaxis\": {\"gridcolor\": \"white\", \"linecolor\": \"white\", \"ticks\": \"\"}, \"bgcolor\": \"#E5ECF6\", \"radialaxis\": {\"gridcolor\": \"white\", \"linecolor\": \"white\", \"ticks\": \"\"}}, \"scene\": {\"xaxis\": {\"backgroundcolor\": \"#E5ECF6\", \"gridcolor\": \"white\", \"gridwidth\": 2, \"linecolor\": \"white\", \"showbackground\": true, \"ticks\": \"\", \"zerolinecolor\": \"white\"}, \"yaxis\": {\"backgroundcolor\": \"#E5ECF6\", \"gridcolor\": \"white\", \"gridwidth\": 2, \"linecolor\": \"white\", \"showbackground\": true, \"ticks\": \"\", \"zerolinecolor\": \"white\"}, \"zaxis\": {\"backgroundcolor\": \"#E5ECF6\", \"gridcolor\": \"white\", \"gridwidth\": 2, \"linecolor\": \"white\", \"showbackground\": true, \"ticks\": \"\", \"zerolinecolor\": \"white\"}}, \"shapedefaults\": {\"line\": {\"color\": \"#2a3f5f\"}}, \"ternary\": {\"aaxis\": {\"gridcolor\": \"white\", \"linecolor\": \"white\", \"ticks\": \"\"}, \"baxis\": {\"gridcolor\": \"white\", \"linecolor\": \"white\", \"ticks\": \"\"}, \"bgcolor\": \"#E5ECF6\", \"caxis\": {\"gridcolor\": \"white\", \"linecolor\": \"white\", \"ticks\": \"\"}}, \"title\": {\"x\": 0.05}, \"xaxis\": {\"automargin\": true, \"gridcolor\": \"white\", \"linecolor\": \"white\", \"ticks\": \"\", \"title\": {\"standoff\": 15}, \"zerolinecolor\": \"white\", \"zerolinewidth\": 2}, \"yaxis\": {\"automargin\": true, \"gridcolor\": \"white\", \"linecolor\": \"white\", \"ticks\": \"\", \"title\": {\"standoff\": 15}, \"zerolinecolor\": \"white\", \"zerolinewidth\": 2}}}, \"title\": {\"text\": \"Count the RaisdHands in each Schoole Level\"}, \"xaxis\": {\"anchor\": \"y\", \"domain\": [0.0, 1.0]}, \"yaxis\": {\"anchor\": \"x\", \"domain\": [0.0, 1.0], \"title\": {\"text\": \"raisedhands\"}}},\n",
              "                        {\"responsive\": true}\n",
              "                    ).then(function(){\n",
              "                            \n",
              "var gd = document.getElementById('26d8b9ca-0cf7-4c6d-b961-e27e8f3cd914');\n",
              "var x = new MutationObserver(function (mutations, observer) {{\n",
              "        var display = window.getComputedStyle(gd).display;\n",
              "        if (!display || display === 'none') {{\n",
              "            console.log([gd, 'removed!']);\n",
              "            Plotly.purge(gd);\n",
              "            observer.disconnect();\n",
              "        }}\n",
              "}});\n",
              "\n",
              "// Listen for the removal of the full notebook cells\n",
              "var notebookContainer = gd.closest('#notebook-container');\n",
              "if (notebookContainer) {{\n",
              "    x.observe(notebookContainer, {childList: true});\n",
              "}}\n",
              "\n",
              "// Listen for the clearing of the current output cell\n",
              "var outputEl = gd.closest('.output');\n",
              "if (outputEl) {{\n",
              "    x.observe(outputEl, {childList: true});\n",
              "}}\n",
              "\n",
              "                        })\n",
              "                };\n",
              "                \n",
              "            </script>\n",
              "        </div>\n",
              "</body>\n",
              "</html>"
            ]
          },
          "metadata": {
            "tags": []
          }
        }
      ]
    },
    {
      "cell_type": "code",
      "metadata": {
        "colab": {
          "base_uri": "https://localhost:8080/",
          "height": 671
        },
        "id": "cdXvGqLZjMw2",
        "outputId": "77f19fde-1044-47ac-a1a9-2c451b9e40d7"
      },
      "source": [
        "app = JupyterDash(__name__)\n",
        "\n",
        "data_frame = df,\n",
        "\n",
        "\n",
        "app.layout = html.Div([\n",
        "    # Title\n",
        "    html.H1(\"Education Dyanamic Dash App\"),\n",
        "    \n",
        "    # Area to hold the graph\n",
        "    dcc.Graph(id=\"graph\"),\n",
        "    \n",
        "    # First input\n",
        "    html.Label([\n",
        "        \"Female/Male\",\n",
        "        dcc.Dropdown(\n",
        "            id=\"gender\",\n",
        "            clearable=False, # Have to pick a choice\n",
        "            value=-1,\n",
        "            options=[{'label': \"Female\", 'value': \"F\"},\n",
        "                    {'label': \"Male\", 'value': \"M\"}\n",
        "            ]\n",
        "            \n",
        "        )\n",
        "    ]),\n",
        "    \n",
        "    # Line Break\n",
        "    html.Br([]),\n",
        "    \n",
        "    #second input\n",
        "# Second Input\n",
        "    html.Label([\n",
        "        \"Schoole Level\",\n",
        "        dcc.Checklist(\n",
        "            id=\"Class\",\n",
        "           value= ['M'],\n",
        "            options=[{'label': 'lower level', 'value': 'L'},\n",
        "                     {'label': 'Middle School', 'value': 'M'},\n",
        "                     {'label': 'High School', 'value': 'H'}\n",
        "            ]\n",
        "        )\n",
        "    ])\n",
        "\n",
        "    \n",
        "    \n",
        "])\n",
        "\n",
        "@app.callback(\n",
        "    Output('graph', 'figure'),\n",
        "    Input('gender', 'value'),\n",
        "    Input('Class', 'value')\n",
        ")\n",
        "\n",
        "def update_figure(val_gender , val_Class):\n",
        "    \n",
        "\n",
        "\n",
        "        test =  df[(df[\"gender\"] == val_gender) & (df[\"Class\"] == val_Class[0])]\n",
        "        return px.scatter(\n",
        "             test, \n",
        "             x=\"Discussion\", \n",
        "             render_mode=\"webgl\",\n",
        "             color=\"gender\",\n",
        "             title=\"The Count Of Discussion by Gender and Schoole Level\"\n",
        "        )\n",
        "     \n",
        "    \n",
        "app.run_server(mode=\"inline\")\n",
        "        "
      ],
      "execution_count": null,
      "outputs": [
        {
          "output_type": "display_data",
          "data": {
            "application/javascript": [
              "(async (port, path, width, height, cache, element) => {\n",
              "    if (!google.colab.kernel.accessAllowed && !cache) {\n",
              "      return;\n",
              "    }\n",
              "    element.appendChild(document.createTextNode(''));\n",
              "    const url = await google.colab.kernel.proxyPort(port, {cache});\n",
              "    const iframe = document.createElement('iframe');\n",
              "    iframe.src = new URL(path, url).toString();\n",
              "    iframe.height = height;\n",
              "    iframe.width = width;\n",
              "    iframe.style.border = 0;\n",
              "    element.appendChild(iframe);\n",
              "  })(8050, \"/\", \"100%\", 650, false, window.element)"
            ],
            "text/plain": [
              "<IPython.core.display.Javascript object>"
            ]
          },
          "metadata": {
            "tags": []
          }
        }
      ]
    }
  ]
}