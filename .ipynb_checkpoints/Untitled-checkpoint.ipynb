{
 "cells": [
  {
   "cell_type": "code",
   "execution_count": 5,
   "id": "7eac1996-ecd7-4192-be58-208e8caeaaa2",
   "metadata": {},
   "outputs": [],
   "source": [
    "import requests \n",
    "import pandas as pd"
   ]
  },
  {
   "cell_type": "code",
   "execution_count": 6,
   "id": "9a46563e-85c2-4799-8225-d9d86b390b65",
   "metadata": {},
   "outputs": [
    {
     "data": {
      "text/plain": [
       "dict_keys(['meta', 'results'])"
      ]
     },
     "execution_count": 6,
     "metadata": {},
     "output_type": "execute_result"
    }
   ],
   "source": [
    "PATH_API = 'https://u50g7n0cbj.execute-api.us-east-1.amazonaws.com/v2/cities?limit=100&page=1&offset=0&sort=asc&country_id=SA&order_by=city'\n",
    "\n",
    "r = requests.get(PATH_API)\n",
    "data = r.json()\n",
    "data.keys()"
   ]
  },
  {
   "cell_type": "code",
   "execution_count": 7,
   "id": "8f92b822-e10b-4b3e-8803-6076c3000610",
   "metadata": {},
   "outputs": [
    {
     "data": {
      "text/html": [
       "<div>\n",
       "<style scoped>\n",
       "    .dataframe tbody tr th:only-of-type {\n",
       "        vertical-align: middle;\n",
       "    }\n",
       "\n",
       "    .dataframe tbody tr th {\n",
       "        vertical-align: top;\n",
       "    }\n",
       "\n",
       "    .dataframe thead th {\n",
       "        text-align: right;\n",
       "    }\n",
       "</style>\n",
       "<table border=\"1\" class=\"dataframe\">\n",
       "  <thead>\n",
       "    <tr style=\"text-align: right;\">\n",
       "      <th></th>\n",
       "      <th>country</th>\n",
       "      <th>city</th>\n",
       "      <th>count</th>\n",
       "      <th>locations</th>\n",
       "      <th>firstUpdated</th>\n",
       "      <th>lastUpdated</th>\n",
       "      <th>parameters</th>\n",
       "    </tr>\n",
       "  </thead>\n",
       "  <tbody>\n",
       "    <tr>\n",
       "      <th>0</th>\n",
       "      <td>SA</td>\n",
       "      <td>Dharan</td>\n",
       "      <td>24</td>\n",
       "      <td>1</td>\n",
       "      <td>2019-07-15T19:00:00+00:00</td>\n",
       "      <td>2019-07-16T18:00:00+00:00</td>\n",
       "      <td>[pm25]</td>\n",
       "    </tr>\n",
       "    <tr>\n",
       "      <th>1</th>\n",
       "      <td>SA</td>\n",
       "      <td>N/A</td>\n",
       "      <td>3822233</td>\n",
       "      <td>2</td>\n",
       "      <td>2019-10-28T18:00:00+00:00</td>\n",
       "      <td>2021-01-20T18:00:00+00:00</td>\n",
       "      <td>[pm25]</td>\n",
       "    </tr>\n",
       "  </tbody>\n",
       "</table>\n",
       "</div>"
      ],
      "text/plain": [
       "  country    city    count  locations               firstUpdated  \\\n",
       "0      SA  Dharan       24          1  2019-07-15T19:00:00+00:00   \n",
       "1      SA     N/A  3822233          2  2019-10-28T18:00:00+00:00   \n",
       "\n",
       "                 lastUpdated parameters  \n",
       "0  2019-07-16T18:00:00+00:00     [pm25]  \n",
       "1  2021-01-20T18:00:00+00:00     [pm25]  "
      ]
     },
     "execution_count": 7,
     "metadata": {},
     "output_type": "execute_result"
    }
   ],
   "source": [
    "dataframe2 = pd.DataFrame(data[\"results\"])\n",
    "dataframe2"
   ]
  },
  {
   "cell_type": "code",
   "execution_count": 13,
   "id": "4fd60071-eb9e-422f-93a1-59e158f54ad9",
   "metadata": {},
   "outputs": [
    {
     "data": {
      "text/html": [
       "<div>\n",
       "<style scoped>\n",
       "    .dataframe tbody tr th:only-of-type {\n",
       "        vertical-align: middle;\n",
       "    }\n",
       "\n",
       "    .dataframe tbody tr th {\n",
       "        vertical-align: top;\n",
       "    }\n",
       "\n",
       "    .dataframe thead th {\n",
       "        text-align: right;\n",
       "    }\n",
       "</style>\n",
       "<table border=\"1\" class=\"dataframe\">\n",
       "  <thead>\n",
       "    <tr style=\"text-align: right;\">\n",
       "      <th></th>\n",
       "      <th>country</th>\n",
       "      <th>city</th>\n",
       "      <th>count</th>\n",
       "      <th>locations</th>\n",
       "      <th>firstUpdated</th>\n",
       "      <th>lastUpdated</th>\n",
       "      <th>parameters</th>\n",
       "    </tr>\n",
       "  </thead>\n",
       "  <tbody>\n",
       "    <tr>\n",
       "      <th>0</th>\n",
       "      <td>SA</td>\n",
       "      <td>Dharan</td>\n",
       "      <td>24</td>\n",
       "      <td>1</td>\n",
       "      <td>2019-07-15T19:00:00+00:00</td>\n",
       "      <td>2019-07-16T18:00:00+00:00</td>\n",
       "      <td>[pm25]</td>\n",
       "    </tr>\n",
       "  </tbody>\n",
       "</table>\n",
       "</div>"
      ],
      "text/plain": [
       "  country    city  count  locations               firstUpdated  \\\n",
       "0      SA  Dharan     24          1  2019-07-15T19:00:00+00:00   \n",
       "\n",
       "                 lastUpdated parameters  \n",
       "0  2019-07-16T18:00:00+00:00     [pm25]  "
      ]
     },
     "execution_count": 13,
     "metadata": {},
     "output_type": "execute_result"
    }
   ],
   "source": [
    "# Create a city locator function that lets a user input a list of cities and returns a DataFrame object\n",
    "\n",
    "# Test the API in the docs and figure out which path is needed to achieve our results\n",
    "\n",
    "# Start of API string\n",
    "api_s = 'https://u50g7n0cbj.execute-api.us-east-1.amazonaws.com/v2/cities?limit=100&page=1&offset=0&sort=asc'\n",
    "\n",
    "# End of API string\n",
    "api_e = \"&order_by=city\"\n",
    "\n",
    "# User generated list of cities to look up\n",
    "city_ls = [\"Dharan\"]\n",
    "\n",
    "# Empty string to pupulate with desired cities using the correct API syntax to be added to the middle of the API string\n",
    "city_s = \"\"\n",
    "\n",
    "# Iterate over the city_ls list and append each city to the city_s string\n",
    "for x in city_ls:\n",
    "    \n",
    "    # If the length of the name is less then 2 then proceed with the \"if\" statement\n",
    "    if len(x.split()) < 2:\n",
    "        city_s += f\"&city={x}\" # Use string concatenation to add new string to old string\n",
    "        \n",
    "    # Else, split the multiple worded city into a list and join together using API syntax\n",
    "    # %20 == space\n",
    "    # New York has 2 words so it wont create a successful API string if we leave the space present\n",
    "    else:\n",
    "        samp = x.split() # split into list\n",
    "        samp = \"20%\".join(samp) # join together using the API alternative for a space\n",
    "        city_s += f\"&city{samp}\" # add to our original string\n",
    "\n",
    "# Create the enitre API PATH\n",
    "PATH = api_s + city_s +api_e\n",
    " \n",
    "# Request the data\n",
    "r = requests.get(PATH)\n",
    "\n",
    "# Create a Pandas DF object\n",
    "pd.DataFrame(r.json()[\"results\"])"
   ]
  },
  {
   "cell_type": "code",
   "execution_count": 11,
   "id": "e35babc2-7f67-4248-80ff-f0447064c8b6",
   "metadata": {},
   "outputs": [
    {
     "data": {
      "text/html": [
       "<div>\n",
       "<style scoped>\n",
       "    .dataframe tbody tr th:only-of-type {\n",
       "        vertical-align: middle;\n",
       "    }\n",
       "\n",
       "    .dataframe tbody tr th {\n",
       "        vertical-align: top;\n",
       "    }\n",
       "\n",
       "    .dataframe thead th {\n",
       "        text-align: right;\n",
       "    }\n",
       "</style>\n",
       "<table border=\"1\" class=\"dataframe\">\n",
       "  <thead>\n",
       "    <tr style=\"text-align: right;\">\n",
       "      <th></th>\n",
       "      <th>country</th>\n",
       "      <th>city</th>\n",
       "      <th>count</th>\n",
       "      <th>locations</th>\n",
       "      <th>firstUpdated</th>\n",
       "      <th>lastUpdated</th>\n",
       "      <th>parameters</th>\n",
       "    </tr>\n",
       "  </thead>\n",
       "  <tbody>\n",
       "    <tr>\n",
       "      <th>0</th>\n",
       "      <td>SA</td>\n",
       "      <td>Dharan</td>\n",
       "      <td>24</td>\n",
       "      <td>1</td>\n",
       "      <td>2019-07-15T19:00:00+00:00</td>\n",
       "      <td>2019-07-16T18:00:00+00:00</td>\n",
       "      <td>[pm25]</td>\n",
       "    </tr>\n",
       "  </tbody>\n",
       "</table>\n",
       "</div>"
      ],
      "text/plain": [
       "  country    city  count  locations               firstUpdated  \\\n",
       "0      SA  Dharan     24          1  2019-07-15T19:00:00+00:00   \n",
       "\n",
       "                 lastUpdated parameters  \n",
       "0  2019-07-16T18:00:00+00:00     [pm25]  "
      ]
     },
     "execution_count": 11,
     "metadata": {},
     "output_type": "execute_result"
    }
   ],
   "source": [
    "def city_loc(city_ls):\n",
    "    \n",
    "    \"\"\"Pull data from a list of cities in the US using the OpenAQ API\n",
    "    \n",
    "    city_ls = list contianing city names to search\n",
    "    \n",
    "    returns pandas DataFrame object if cities were found in the database\n",
    "    \"\"\"\n",
    "    \n",
    "    api_s = 'https://docs.openaq.org/v2/cities?limit=100&page=1&offset=0&sort=asc'\n",
    "    api_e = \"&order_by=city\"\n",
    "    city_ls = city_ls\n",
    "    city_s = \"\"\n",
    "    for x in city_ls:\n",
    "        if len(x.split()) < 2:\n",
    "            city_s += f\"&city={x}\"\n",
    "        else:\n",
    "            samp = x.split()\n",
    "            samp = \"%20\".join(samp)\n",
    "            city_s += f\"&city{samp}\"\n",
    "\n",
    "    PATH = api_s + city_s +api_e\n",
    "\n",
    "    r = requests.get(PATH)\n",
    "    return pd.DataFrame(r.json()[\"results\"])\n",
    "\n",
    "city_loc([\"Dharan\"])"
   ]
  },
  {
   "cell_type": "code",
   "execution_count": 15,
   "id": "48c46ae9-ff62-48a7-b536-fc060b0cd49a",
   "metadata": {},
   "outputs": [
    {
     "name": "stdout",
     "output_type": "stream",
     "text": [
      "The number od columns 7\n",
      "The number od rows 2\n"
     ]
    }
   ],
   "source": [
    "#How many rows and columns are in the data from your API call\n",
    "\n",
    "print(\"The number od columns\", len(dataframe2.columns))\n",
    "print(\"The number od rows\", len(dataframe2))\n"
   ]
  },
  {
   "cell_type": "code",
   "execution_count": 16,
   "id": "8bcc08f1-30ae-4cbc-b736-17ea38e54c6d",
   "metadata": {},
   "outputs": [
    {
     "data": {
      "text/plain": [
       "(2, 7)"
      ]
     },
     "execution_count": 16,
     "metadata": {},
     "output_type": "execute_result"
    }
   ],
   "source": [
    "dataframe2.shape"
   ]
  },
  {
   "cell_type": "code",
   "execution_count": null,
   "id": "23d5ba0f-00e0-43cd-8d74-3e8c56438dc8",
   "metadata": {},
   "outputs": [],
   "source": []
  }
 ],
 "metadata": {
  "kernelspec": {
   "display_name": "Python 3",
   "language": "python",
   "name": "python3"
  },
  "language_info": {
   "codemirror_mode": {
    "name": "ipython",
    "version": 3
   },
   "file_extension": ".py",
   "mimetype": "text/x-python",
   "name": "python",
   "nbconvert_exporter": "python",
   "pygments_lexer": "ipython3",
   "version": "3.8.8"
  }
 },
 "nbformat": 4,
 "nbformat_minor": 5
}
