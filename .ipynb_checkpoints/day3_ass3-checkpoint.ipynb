{
 "cells": [
  {
   "cell_type": "markdown",
   "metadata": {},
   "source": [
    "#### Group2 Members :\n",
    "Amani Almarzoog\n",
    "\n",
    "Ruba Alkhattabi\n",
    "\n",
    "Abdullah Alothman\n",
    "\n",
    "Razan Alsallumi"
   ]
  },
  {
   "cell_type": "code",
   "execution_count": 1,
   "metadata": {},
   "outputs": [],
   "source": [
    "import numpy as np"
   ]
  },
  {
   "cell_type": "code",
   "execution_count": 83,
   "metadata": {},
   "outputs": [
    {
     "name": "stdout",
     "output_type": "stream",
     "text": [
      "Number Of Person To Get Chance Same B-day 50% or greater are 27\n"
     ]
    }
   ],
   "source": [
    "a = np.array([])\n",
    "n_person = 1\n",
    "\n",
    "for x in range(1000):\n",
    "        t=np.random.choice(a= range(1,366), size=n_person , replace=True)\n",
    "        if len(t) > len(set(t)):\n",
    "            a = np.append(a,1)\n",
    "        else:\n",
    "            a = np.append(a,0)\n",
    "        \n",
    "        n_person +=1\n",
    "        if ((np.sum(a)/1000)*100 > 0.5):\n",
    "            break\n",
    "            \n",
    "        \n",
    "print (f\"Number Of Person To Get Chance Same B-day 50% or greater are {n_person}\")\n",
    "\n",
    "\n"
   ]
  },
  {
   "cell_type": "code",
   "execution_count": 84,
   "metadata": {},
   "outputs": [
    {
     "name": "stdout",
     "output_type": "stream",
     "text": [
      "Number Of Person To Get Chance Same B-day 95% or greater are 34\n"
     ]
    }
   ],
   "source": [
    "a = np.array([])\n",
    "n_person = 1\n",
    "\n",
    "for x in range(1000):\n",
    "        t=np.random.choice(a= range(1,366), size=n_person , replace=True)\n",
    "        if len(t) > len(set(t)):\n",
    "            a = np.append(a,1)\n",
    "        else:\n",
    "            a = np.append(a,0)\n",
    "        \n",
    "        n_person +=1\n",
    "        if ((np.sum(a)/1000)*100 >= 0.95):\n",
    "            break\n",
    "            \n",
    "        \n",
    "print (f\"Number Of Person To Get Chance Same B-day 95% or greater are {n_person}\")"
   ]
  },
  {
   "cell_type": "code",
   "execution_count": 87,
   "metadata": {},
   "outputs": [
    {
     "name": "stdout",
     "output_type": "stream",
     "text": [
      "Number Of Person To Get Chance Same B-day 99% or greater are 32\n"
     ]
    }
   ],
   "source": [
    "a = np.array([])\n",
    "n_person = 1\n",
    "\n",
    "for x in range(1000):\n",
    "        t=np.random.choice(a= range(1,366), size=n_person , replace=True)\n",
    "        if len(t) > len(set(t)):\n",
    "            a = np.append(a,1)\n",
    "        else:\n",
    "            a = np.append(a,0)\n",
    "        \n",
    "        n_person +=1\n",
    "        if ((np.sum(a)/1000)*100 >= 0.95):\n",
    "            break\n",
    "            \n",
    "        \n",
    "print (f\"Number Of Person To Get Chance Same B-day 99% or greater are {n_person}\")"
   ]
  },
  {
   "cell_type": "code",
   "execution_count": null,
   "metadata": {},
   "outputs": [],
   "source": []
  }
 ],
 "metadata": {
  "kernelspec": {
   "display_name": "Python 3",
   "language": "python",
   "name": "python3"
  },
  "language_info": {
   "codemirror_mode": {
    "name": "ipython",
    "version": 3
   },
   "file_extension": ".py",
   "mimetype": "text/x-python",
   "name": "python",
   "nbconvert_exporter": "python",
   "pygments_lexer": "ipython3",
   "version": "3.8.8"
  }
 },
 "nbformat": 4,
 "nbformat_minor": 4
}
