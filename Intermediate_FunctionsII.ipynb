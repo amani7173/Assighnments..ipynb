{
 "cells": [
  {
   "cell_type": "markdown",
   "id": "47b8c840-1f23-4447-9c13-eeba7b350890",
   "metadata": {},
   "source": [
    "#### Group2 Members :\n",
    "Amani Almarzoog\n",
    "\n",
    "Ruba Alkhattabi\n",
    "\n",
    "Abdullah Alothman\n",
    "\n",
    "Razan Alsallumi"
   ]
  },
  {
   "cell_type": "code",
   "execution_count": 2,
   "id": "583c7b9b-59bb-41d0-8e18-1a15d3486e42",
   "metadata": {},
   "outputs": [
    {
     "data": {
      "text/plain": [
       "[[5, 2, 3], [15, 8, 9]]"
      ]
     },
     "execution_count": 2,
     "metadata": {},
     "output_type": "execute_result"
    }
   ],
   "source": [
    "# 1\n",
    "# Change the value 10 in x to 15. Once you're done, x should now be [ [5,2,3], [15,8,9] ].\n",
    "\n",
    "x = [ [5,2,3], [10,8,9] ] \n",
    "\n",
    "x[1][0]=15\n",
    "x"
   ]
  },
  {
   "cell_type": "code",
   "execution_count": 8,
   "id": "36f6a26a-ef4b-4788-aa74-3fe8ff139d3f",
   "metadata": {},
   "outputs": [
    {
     "data": {
      "text/plain": [
       "[{'first_name': 'Michael', 'last_name': 'Bryant'},\n",
       " {'first_name': 'John', 'last_name': 'Rosales'}]"
      ]
     },
     "execution_count": 8,
     "metadata": {},
     "output_type": "execute_result"
    }
   ],
   "source": [
    "# Change the last_name of the first student from 'Jordan' to 'Bryant'\n",
    "\n",
    "students = [\n",
    "     {'first_name':  'Michael', 'last_name' : 'Jordan'},\n",
    "     {'first_name' : 'John', 'last_name' : 'Rosales'}\n",
    "]\n",
    "\n",
    "students[0]['last_name']='Bryant'\n",
    "students"
   ]
  },
  {
   "cell_type": "code",
   "execution_count": 6,
   "id": "089eacae-047b-4640-8893-0c72092c3787",
   "metadata": {},
   "outputs": [
    {
     "data": {
      "text/plain": [
       "{'basketball': ['Kobe', 'Jordan', 'James', 'Curry'],\n",
       " 'soccer': ['Andres', 'Ronaldo', 'Rooney']}"
      ]
     },
     "execution_count": 6,
     "metadata": {},
     "output_type": "execute_result"
    }
   ],
   "source": [
    "# In the sports_directory, change 'Messi' to 'Andres'\n",
    "\n",
    "sports_directory = {\n",
    "    'basketball' : ['Kobe', 'Jordan', 'James', 'Curry'],\n",
    "    'soccer' : ['Messi', 'Ronaldo', 'Rooney']\n",
    "}\n",
    "\n",
    "sports_directory['soccer'][0]='Andres'\n",
    "sports_directory"
   ]
  },
  {
   "cell_type": "code",
   "execution_count": 9,
   "id": "e6d123bb-08b8-4177-be5d-2213255d48f7",
   "metadata": {},
   "outputs": [
    {
     "data": {
      "text/plain": [
       "[{'x': 10, 'y': 30}]"
      ]
     },
     "execution_count": 9,
     "metadata": {},
     "output_type": "execute_result"
    }
   ],
   "source": [
    "# Change the value 20 in z to 30\n",
    "\n",
    "z = [ {'x': 10, 'y': 20} ]\n",
    "\n",
    "z[0]['y']=30\n",
    "z"
   ]
  },
  {
   "cell_type": "code",
   "execution_count": 21,
   "id": "36b412f0-81e2-42aa-9b2c-37f9d93cb71e",
   "metadata": {},
   "outputs": [
    {
     "name": "stdout",
     "output_type": "stream",
     "text": [
      "first_name - Michael, last_name - Jordan\n",
      "first_name - John, last_name - Rosales\n",
      "first_name - Mark, last_name - Guillen\n",
      "first_name - KB, last_name - Tonel\n"
     ]
    }
   ],
   "source": [
    "# 2\n",
    "# Create a function iterateDictionary(some_list) that, given a list of dictionaries, the function loops through \n",
    "# each dictionary in the list and prints each key and the associated value. For example, given the following list:\n",
    "\n",
    "students = [\n",
    "         {'first_name':  'Michael', 'last_name' : 'Jordan'},\n",
    "         {'first_name' : 'John', 'last_name' : 'Rosales'},\n",
    "         {'first_name' : 'Mark', 'last_name' : 'Guillen'},\n",
    "         {'first_name' : 'KB', 'last_name' : 'Tonel'}\n",
    "    ]\n",
    "\n",
    "def iterateDictionary(x):\n",
    "    for i in range(len(x)):\n",
    "        first=x[i][\"first_name\"]\n",
    "        last=x[i][\"last_name\"]\n",
    "\n",
    "        print(f\"first_name - {first}, last_name - {last}\")\n",
    "        \n",
    "iterateDictionary(students)               "
   ]
  },
  {
   "cell_type": "code",
   "execution_count": 19,
   "id": "7b2afd0c-da2b-43f6-b3a9-07e6f9a6d648",
   "metadata": {},
   "outputs": [
    {
     "name": "stdout",
     "output_type": "stream",
     "text": [
      "Michael\n",
      "John\n",
      "Mark\n",
      "KB\n"
     ]
    }
   ],
   "source": [
    "# 3\n",
    "# Get Values From a List of Dictionaries\n",
    "students = [\n",
    "         {'first_name':  'Michael', 'last_name' : 'Jordan'},\n",
    "         {'first_name' : 'John', 'last_name' : 'Rosales'},\n",
    "         {'first_name' : 'Mark', 'last_name' : 'Guillen'},\n",
    "         {'first_name' : 'KB', 'last_name' : 'Tonel'}\n",
    "    ]\n",
    "\n",
    "def iterateDictionary(key,x):\n",
    "    for i in range(len(x)):\n",
    "        print(x[i][key])\n",
    "\n",
    "students = [\n",
    "         {'first_name':  'Michael', 'last_name' : 'Jordan'},\n",
    "         {'first_name' : 'John', 'last_name' : 'Rosales'},\n",
    "         {'first_name' : 'Mark', 'last_name' : 'Guillen'},\n",
    "         {'first_name' : 'KB', 'last_name' : 'Tonel'}]\n",
    "\n",
    "iterateDictionary(\"first_name\",students)"
   ]
  },
  {
   "cell_type": "code",
   "execution_count": 18,
   "id": "87aa923d-ab88-4564-a859-8e12c7683287",
   "metadata": {},
   "outputs": [
    {
     "name": "stdout",
     "output_type": "stream",
     "text": [
      "7 LOCATIONS\n",
      "San Jose\n",
      "Seattle\n",
      "Dallas\n",
      "Chicago\n",
      "Tulsa\n",
      "DC\n",
      "Burbank\n",
      "\n",
      "8 INSTRUCTORS\n",
      "Michael\n",
      "Amy\n",
      "Eduardo\n",
      "Josh\n",
      "Graham\n",
      "Patrick\n",
      "Minh\n",
      "Devon\n"
     ]
    }
   ],
   "source": [
    "# 4 \n",
    "# Iterate Through a Dictionary with List Values\n",
    "dojo = {\n",
    "   'locations': ['San Jose', 'Seattle', 'Dallas', 'Chicago', 'Tulsa', 'DC', 'Burbank'],\n",
    "   'instructors': ['Michael', 'Amy', 'Eduardo', 'Josh', 'Graham', 'Patrick', 'Minh', 'Devon']}\n",
    "\n",
    "def printInfo(dojo):\n",
    "    print(len(dojo['locations']), \"LOCATIONS\")\n",
    "    for location in dojo['locations']:\n",
    "        print(location)\n",
    "    print()\n",
    "    print(len(dojo['instructors']), \"INSTRUCTORS\")\n",
    "    for instructor in dojo['instructors']:\n",
    "       print(instructor)\n",
    "       \n",
    "printInfo(dojo)\n"
   ]
  }
 ],
 "metadata": {
  "kernelspec": {
   "display_name": "Python 3",
   "language": "python",
   "name": "python3"
  },
  "language_info": {
   "codemirror_mode": {
    "name": "ipython",
    "version": 3
   },
   "file_extension": ".py",
   "mimetype": "text/x-python",
   "name": "python",
   "nbconvert_exporter": "python",
   "pygments_lexer": "ipython3",
   "version": "3.8.8"
  }
 },
 "nbformat": 4,
 "nbformat_minor": 5
}
